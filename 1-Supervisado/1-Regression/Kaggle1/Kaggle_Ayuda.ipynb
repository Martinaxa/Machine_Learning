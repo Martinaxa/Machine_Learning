{
 "cells": [
  {
   "cell_type": "markdown",
   "metadata": {},
   "source": [
    "#### Aquí encontrarás todo lo que necesitas saber: https://www.kaggle.com/t/ab8726f0cfc84544abbae69a6be88071"
   ]
  },
  {
   "cell_type": "markdown",
   "metadata": {},
   "source": [
    "## Librerias"
   ]
  },
  {
   "cell_type": "code",
   "execution_count": 14,
   "metadata": {},
   "outputs": [],
   "source": [
    "import pandas as pd\n",
    "\n",
    "import urllib.request\n",
    "from PIL import Image"
   ]
  },
  {
   "cell_type": "markdown",
   "metadata": {},
   "source": [
    "## Data"
   ]
  },
  {
   "cell_type": "code",
   "execution_count": 15,
   "metadata": {},
   "outputs": [],
   "source": [
    "### Para que funcione necesitas bajarte los archivos de datos de Kaggle \n",
    "train = pd.read_csv(\"data/train.csv\")\n"
   ]
  },
  {
   "cell_type": "markdown",
   "metadata": {},
   "source": [
    "## Data exploration"
   ]
  },
  {
   "cell_type": "code",
   "execution_count": 16,
   "metadata": {},
   "outputs": [
    {
     "name": "stdout",
     "output_type": "stream",
     "text": [
      "<class 'pandas.core.frame.DataFrame'>\n",
      "RangeIndex: 912 entries, 0 to 911\n",
      "Data columns (total 13 columns):\n",
      " #   Column            Non-Null Count  Dtype  \n",
      "---  ------            --------------  -----  \n",
      " 0   laptop_ID         912 non-null    int64  \n",
      " 1   Company           912 non-null    object \n",
      " 2   Product           912 non-null    object \n",
      " 3   TypeName          912 non-null    object \n",
      " 4   Inches            912 non-null    float64\n",
      " 5   ScreenResolution  912 non-null    object \n",
      " 6   Cpu               912 non-null    object \n",
      " 7   Ram               912 non-null    object \n",
      " 8   Memory            912 non-null    object \n",
      " 9   Gpu               912 non-null    object \n",
      " 10  OpSys             912 non-null    object \n",
      " 11  Weight            912 non-null    object \n",
      " 12  Price_euros       912 non-null    float64\n",
      "dtypes: float64(2), int64(1), object(10)\n",
      "memory usage: 92.8+ KB\n"
     ]
    }
   ],
   "source": [
    "train.info()"
   ]
  },
  {
   "cell_type": "code",
   "execution_count": 17,
   "metadata": {},
   "outputs": [
    {
     "data": {
      "text/html": [
       "<div>\n",
       "<style scoped>\n",
       "    .dataframe tbody tr th:only-of-type {\n",
       "        vertical-align: middle;\n",
       "    }\n",
       "\n",
       "    .dataframe tbody tr th {\n",
       "        vertical-align: top;\n",
       "    }\n",
       "\n",
       "    .dataframe thead th {\n",
       "        text-align: right;\n",
       "    }\n",
       "</style>\n",
       "<table border=\"1\" class=\"dataframe\">\n",
       "  <thead>\n",
       "    <tr style=\"text-align: right;\">\n",
       "      <th></th>\n",
       "      <th>laptop_ID</th>\n",
       "      <th>Company</th>\n",
       "      <th>Product</th>\n",
       "      <th>TypeName</th>\n",
       "      <th>Inches</th>\n",
       "      <th>ScreenResolution</th>\n",
       "      <th>Cpu</th>\n",
       "      <th>Ram</th>\n",
       "      <th>Memory</th>\n",
       "      <th>Gpu</th>\n",
       "      <th>OpSys</th>\n",
       "      <th>Weight</th>\n",
       "      <th>Price_euros</th>\n",
       "    </tr>\n",
       "  </thead>\n",
       "  <tbody>\n",
       "    <tr>\n",
       "      <th>0</th>\n",
       "      <td>1104</td>\n",
       "      <td>Acer</td>\n",
       "      <td>Aspire ES1-523</td>\n",
       "      <td>Notebook</td>\n",
       "      <td>15.6</td>\n",
       "      <td>1366x768</td>\n",
       "      <td>AMD A8-Series 7410 2.2GHz</td>\n",
       "      <td>4GB</td>\n",
       "      <td>500GB HDD</td>\n",
       "      <td>AMD Radeon R5</td>\n",
       "      <td>Windows 10</td>\n",
       "      <td>2.4kg</td>\n",
       "      <td>387.0</td>\n",
       "    </tr>\n",
       "    <tr>\n",
       "      <th>1</th>\n",
       "      <td>114</td>\n",
       "      <td>Dell</td>\n",
       "      <td>XPS 13</td>\n",
       "      <td>Ultrabook</td>\n",
       "      <td>13.3</td>\n",
       "      <td>Quad HD+ / Touchscreen 3200x1800</td>\n",
       "      <td>Intel Core i7 7560U 2.4GHz</td>\n",
       "      <td>8GB</td>\n",
       "      <td>256GB SSD</td>\n",
       "      <td>Intel Iris Plus Graphics 640</td>\n",
       "      <td>Windows 10</td>\n",
       "      <td>1.23kg</td>\n",
       "      <td>1379.0</td>\n",
       "    </tr>\n",
       "    <tr>\n",
       "      <th>2</th>\n",
       "      <td>172</td>\n",
       "      <td>Acer</td>\n",
       "      <td>Aspire A517-51G</td>\n",
       "      <td>Notebook</td>\n",
       "      <td>17.3</td>\n",
       "      <td>IPS Panel Full HD 1920x1080</td>\n",
       "      <td>Intel Core i5 8250U 1.6GHz</td>\n",
       "      <td>8GB</td>\n",
       "      <td>256GB SSD</td>\n",
       "      <td>Nvidia GeForce MX150</td>\n",
       "      <td>Windows 10</td>\n",
       "      <td>3kg</td>\n",
       "      <td>854.0</td>\n",
       "    </tr>\n",
       "    <tr>\n",
       "      <th>3</th>\n",
       "      <td>918</td>\n",
       "      <td>HP</td>\n",
       "      <td>Elitebook 820</td>\n",
       "      <td>Netbook</td>\n",
       "      <td>12.5</td>\n",
       "      <td>Full HD 1920x1080</td>\n",
       "      <td>Intel Core i7 7500U 2.7GHz</td>\n",
       "      <td>8GB</td>\n",
       "      <td>512GB SSD</td>\n",
       "      <td>Intel HD Graphics 620</td>\n",
       "      <td>Windows 10</td>\n",
       "      <td>1.26kg</td>\n",
       "      <td>1483.0</td>\n",
       "    </tr>\n",
       "    <tr>\n",
       "      <th>4</th>\n",
       "      <td>447</td>\n",
       "      <td>Lenovo</td>\n",
       "      <td>IdeaPad 320-15AST</td>\n",
       "      <td>Notebook</td>\n",
       "      <td>17.3</td>\n",
       "      <td>1600x900</td>\n",
       "      <td>AMD A6-Series 9220 2.5GHz</td>\n",
       "      <td>8GB</td>\n",
       "      <td>1TB HDD</td>\n",
       "      <td>AMD Radeon R4</td>\n",
       "      <td>Windows 10</td>\n",
       "      <td>2.8kg</td>\n",
       "      <td>519.0</td>\n",
       "    </tr>\n",
       "  </tbody>\n",
       "</table>\n",
       "</div>"
      ],
      "text/plain": [
       "   laptop_ID Company            Product   TypeName  Inches  \\\n",
       "0       1104    Acer     Aspire ES1-523   Notebook    15.6   \n",
       "1        114    Dell             XPS 13  Ultrabook    13.3   \n",
       "2        172    Acer    Aspire A517-51G   Notebook    17.3   \n",
       "3        918      HP      Elitebook 820    Netbook    12.5   \n",
       "4        447  Lenovo  IdeaPad 320-15AST   Notebook    17.3   \n",
       "\n",
       "                   ScreenResolution                         Cpu  Ram  \\\n",
       "0                          1366x768   AMD A8-Series 7410 2.2GHz  4GB   \n",
       "1  Quad HD+ / Touchscreen 3200x1800  Intel Core i7 7560U 2.4GHz  8GB   \n",
       "2       IPS Panel Full HD 1920x1080  Intel Core i5 8250U 1.6GHz  8GB   \n",
       "3                 Full HD 1920x1080  Intel Core i7 7500U 2.7GHz  8GB   \n",
       "4                          1600x900   AMD A6-Series 9220 2.5GHz  8GB   \n",
       "\n",
       "      Memory                           Gpu       OpSys  Weight  Price_euros  \n",
       "0  500GB HDD                 AMD Radeon R5  Windows 10   2.4kg        387.0  \n",
       "1  256GB SSD  Intel Iris Plus Graphics 640  Windows 10  1.23kg       1379.0  \n",
       "2  256GB SSD          Nvidia GeForce MX150  Windows 10     3kg        854.0  \n",
       "3  512GB SSD         Intel HD Graphics 620  Windows 10  1.26kg       1483.0  \n",
       "4    1TB HDD                 AMD Radeon R4  Windows 10   2.8kg        519.0  "
      ]
     },
     "execution_count": 17,
     "metadata": {},
     "output_type": "execute_result"
    }
   ],
   "source": [
    "train.head()"
   ]
  },
  {
   "cell_type": "markdown",
   "metadata": {},
   "source": [
    "## Data processing"
   ]
  },
  {
   "cell_type": "code",
   "execution_count": null,
   "metadata": {},
   "outputs": [],
   "source": []
  },
  {
   "cell_type": "code",
   "execution_count": null,
   "metadata": {},
   "outputs": [],
   "source": []
  },
  {
   "cell_type": "code",
   "execution_count": null,
   "metadata": {},
   "outputs": [],
   "source": []
  },
  {
   "cell_type": "markdown",
   "metadata": {},
   "source": [
    "-----------------------------------------------------------------------------------------------------------------"
   ]
  },
  {
   "cell_type": "markdown",
   "metadata": {},
   "source": [
    "## Pasos que si o si debéis realizar para poder participar en la competición:"
   ]
  },
  {
   "cell_type": "markdown",
   "metadata": {},
   "source": [
    "### 1. Definir X e y"
   ]
  },
  {
   "cell_type": "code",
   "execution_count": 18,
   "metadata": {},
   "outputs": [],
   "source": [
    "train = train[[\"laptop_ID\", \"Inches\",\"Price_euros\"]]"
   ]
  },
  {
   "cell_type": "code",
   "execution_count": 19,
   "metadata": {},
   "outputs": [
    {
     "data": {
      "text/plain": [
       "(912, 2)"
      ]
     },
     "execution_count": 19,
     "metadata": {},
     "output_type": "execute_result"
    }
   ],
   "source": [
    "X = train.drop(['Price_euros'], axis=1)\n",
    "y = train['Price_euros'].copy()\n",
    "X.shape"
   ]
  },
  {
   "cell_type": "code",
   "execution_count": 10,
   "metadata": {},
   "outputs": [
    {
     "data": {
      "text/plain": [
       "(912,)"
      ]
     },
     "execution_count": 10,
     "metadata": {},
     "output_type": "execute_result"
    }
   ],
   "source": [
    "y.shape"
   ]
  },
  {
   "cell_type": "markdown",
   "metadata": {},
   "source": [
    "### 2. Dividir X_train, X_test, y_train, y_test"
   ]
  },
  {
   "cell_type": "code",
   "execution_count": 22,
   "metadata": {},
   "outputs": [],
   "source": [
    "from sklearn.model_selection import train_test_split"
   ]
  },
  {
   "cell_type": "code",
   "execution_count": 23,
   "metadata": {},
   "outputs": [],
   "source": [
    "X_train, X_test, y_train, y_test = train_test_split(X, y, test_size = 0.20, random_state = 42)"
   ]
  },
  {
   "cell_type": "code",
   "execution_count": 24,
   "metadata": {},
   "outputs": [
    {
     "data": {
      "text/html": [
       "<div>\n",
       "<style scoped>\n",
       "    .dataframe tbody tr th:only-of-type {\n",
       "        vertical-align: middle;\n",
       "    }\n",
       "\n",
       "    .dataframe tbody tr th {\n",
       "        vertical-align: top;\n",
       "    }\n",
       "\n",
       "    .dataframe thead th {\n",
       "        text-align: right;\n",
       "    }\n",
       "</style>\n",
       "<table border=\"1\" class=\"dataframe\">\n",
       "  <thead>\n",
       "    <tr style=\"text-align: right;\">\n",
       "      <th></th>\n",
       "      <th>laptop_ID</th>\n",
       "      <th>Inches</th>\n",
       "    </tr>\n",
       "  </thead>\n",
       "  <tbody>\n",
       "    <tr>\n",
       "      <th>25</th>\n",
       "      <td>26</td>\n",
       "      <td>15.6</td>\n",
       "    </tr>\n",
       "    <tr>\n",
       "      <th>84</th>\n",
       "      <td>776</td>\n",
       "      <td>15.6</td>\n",
       "    </tr>\n",
       "    <tr>\n",
       "      <th>10</th>\n",
       "      <td>1263</td>\n",
       "      <td>15.6</td>\n",
       "    </tr>\n",
       "    <tr>\n",
       "      <th>342</th>\n",
       "      <td>182</td>\n",
       "      <td>15.6</td>\n",
       "    </tr>\n",
       "    <tr>\n",
       "      <th>890</th>\n",
       "      <td>321</td>\n",
       "      <td>13.3</td>\n",
       "    </tr>\n",
       "    <tr>\n",
       "      <th>...</th>\n",
       "      <td>...</td>\n",
       "      <td>...</td>\n",
       "    </tr>\n",
       "    <tr>\n",
       "      <th>106</th>\n",
       "      <td>394</td>\n",
       "      <td>15.6</td>\n",
       "    </tr>\n",
       "    <tr>\n",
       "      <th>270</th>\n",
       "      <td>441</td>\n",
       "      <td>15.6</td>\n",
       "    </tr>\n",
       "    <tr>\n",
       "      <th>860</th>\n",
       "      <td>955</td>\n",
       "      <td>17.3</td>\n",
       "    </tr>\n",
       "    <tr>\n",
       "      <th>435</th>\n",
       "      <td>210</td>\n",
       "      <td>15.6</td>\n",
       "    </tr>\n",
       "    <tr>\n",
       "      <th>102</th>\n",
       "      <td>673</td>\n",
       "      <td>15.6</td>\n",
       "    </tr>\n",
       "  </tbody>\n",
       "</table>\n",
       "<p>729 rows × 2 columns</p>\n",
       "</div>"
      ],
      "text/plain": [
       "     laptop_ID  Inches\n",
       "25          26    15.6\n",
       "84         776    15.6\n",
       "10        1263    15.6\n",
       "342        182    15.6\n",
       "890        321    13.3\n",
       "..         ...     ...\n",
       "106        394    15.6\n",
       "270        441    15.6\n",
       "860        955    17.3\n",
       "435        210    15.6\n",
       "102        673    15.6\n",
       "\n",
       "[729 rows x 2 columns]"
      ]
     },
     "execution_count": 24,
     "metadata": {},
     "output_type": "execute_result"
    }
   ],
   "source": [
    "X_train"
   ]
  },
  {
   "cell_type": "markdown",
   "metadata": {},
   "source": [
    "### 3. Asignar el modelo (vacío) a una variable\n"
   ]
  },
  {
   "cell_type": "code",
   "execution_count": 25,
   "metadata": {},
   "outputs": [],
   "source": [
    "from sklearn.linear_model import LinearRegression\n",
    "model = LinearRegression()"
   ]
  },
  {
   "cell_type": "code",
   "execution_count": 26,
   "metadata": {},
   "outputs": [
    {
     "data": {
      "text/html": [
       "<style>#sk-container-id-1 {color: black;background-color: white;}#sk-container-id-1 pre{padding: 0;}#sk-container-id-1 div.sk-toggleable {background-color: white;}#sk-container-id-1 label.sk-toggleable__label {cursor: pointer;display: block;width: 100%;margin-bottom: 0;padding: 0.3em;box-sizing: border-box;text-align: center;}#sk-container-id-1 label.sk-toggleable__label-arrow:before {content: \"▸\";float: left;margin-right: 0.25em;color: #696969;}#sk-container-id-1 label.sk-toggleable__label-arrow:hover:before {color: black;}#sk-container-id-1 div.sk-estimator:hover label.sk-toggleable__label-arrow:before {color: black;}#sk-container-id-1 div.sk-toggleable__content {max-height: 0;max-width: 0;overflow: hidden;text-align: left;background-color: #f0f8ff;}#sk-container-id-1 div.sk-toggleable__content pre {margin: 0.2em;color: black;border-radius: 0.25em;background-color: #f0f8ff;}#sk-container-id-1 input.sk-toggleable__control:checked~div.sk-toggleable__content {max-height: 200px;max-width: 100%;overflow: auto;}#sk-container-id-1 input.sk-toggleable__control:checked~label.sk-toggleable__label-arrow:before {content: \"▾\";}#sk-container-id-1 div.sk-estimator input.sk-toggleable__control:checked~label.sk-toggleable__label {background-color: #d4ebff;}#sk-container-id-1 div.sk-label input.sk-toggleable__control:checked~label.sk-toggleable__label {background-color: #d4ebff;}#sk-container-id-1 input.sk-hidden--visually {border: 0;clip: rect(1px 1px 1px 1px);clip: rect(1px, 1px, 1px, 1px);height: 1px;margin: -1px;overflow: hidden;padding: 0;position: absolute;width: 1px;}#sk-container-id-1 div.sk-estimator {font-family: monospace;background-color: #f0f8ff;border: 1px dotted black;border-radius: 0.25em;box-sizing: border-box;margin-bottom: 0.5em;}#sk-container-id-1 div.sk-estimator:hover {background-color: #d4ebff;}#sk-container-id-1 div.sk-parallel-item::after {content: \"\";width: 100%;border-bottom: 1px solid gray;flex-grow: 1;}#sk-container-id-1 div.sk-label:hover label.sk-toggleable__label {background-color: #d4ebff;}#sk-container-id-1 div.sk-serial::before {content: \"\";position: absolute;border-left: 1px solid gray;box-sizing: border-box;top: 0;bottom: 0;left: 50%;z-index: 0;}#sk-container-id-1 div.sk-serial {display: flex;flex-direction: column;align-items: center;background-color: white;padding-right: 0.2em;padding-left: 0.2em;position: relative;}#sk-container-id-1 div.sk-item {position: relative;z-index: 1;}#sk-container-id-1 div.sk-parallel {display: flex;align-items: stretch;justify-content: center;background-color: white;position: relative;}#sk-container-id-1 div.sk-item::before, #sk-container-id-1 div.sk-parallel-item::before {content: \"\";position: absolute;border-left: 1px solid gray;box-sizing: border-box;top: 0;bottom: 0;left: 50%;z-index: -1;}#sk-container-id-1 div.sk-parallel-item {display: flex;flex-direction: column;z-index: 1;position: relative;background-color: white;}#sk-container-id-1 div.sk-parallel-item:first-child::after {align-self: flex-end;width: 50%;}#sk-container-id-1 div.sk-parallel-item:last-child::after {align-self: flex-start;width: 50%;}#sk-container-id-1 div.sk-parallel-item:only-child::after {width: 0;}#sk-container-id-1 div.sk-dashed-wrapped {border: 1px dashed gray;margin: 0 0.4em 0.5em 0.4em;box-sizing: border-box;padding-bottom: 0.4em;background-color: white;}#sk-container-id-1 div.sk-label label {font-family: monospace;font-weight: bold;display: inline-block;line-height: 1.2em;}#sk-container-id-1 div.sk-label-container {text-align: center;}#sk-container-id-1 div.sk-container {/* jupyter's `normalize.less` sets `[hidden] { display: none; }` but bootstrap.min.css set `[hidden] { display: none !important; }` so we also need the `!important` here to be able to override the default hidden behavior on the sphinx rendered scikit-learn.org. See: https://github.com/scikit-learn/scikit-learn/issues/21755 */display: inline-block !important;position: relative;}#sk-container-id-1 div.sk-text-repr-fallback {display: none;}</style><div id=\"sk-container-id-1\" class=\"sk-top-container\"><div class=\"sk-text-repr-fallback\"><pre>LinearRegression()</pre><b>In a Jupyter environment, please rerun this cell to show the HTML representation or trust the notebook. <br />On GitHub, the HTML representation is unable to render, please try loading this page with nbviewer.org.</b></div><div class=\"sk-container\" hidden><div class=\"sk-item\"><div class=\"sk-estimator sk-toggleable\"><input class=\"sk-toggleable__control sk-hidden--visually\" id=\"sk-estimator-id-1\" type=\"checkbox\" checked><label for=\"sk-estimator-id-1\" class=\"sk-toggleable__label sk-toggleable__label-arrow\">LinearRegression</label><div class=\"sk-toggleable__content\"><pre>LinearRegression()</pre></div></div></div></div></div>"
      ],
      "text/plain": [
       "LinearRegression()"
      ]
     },
     "execution_count": 26,
     "metadata": {},
     "output_type": "execute_result"
    }
   ],
   "source": [
    "model.fit(X_train, y_train)"
   ]
  },
  {
   "cell_type": "code",
   "execution_count": 28,
   "metadata": {},
   "outputs": [
    {
     "data": {
      "text/plain": [
       "array([1120.43868276, 1069.79534654, 1070.20842432, 1160.62136315,\n",
       "       1208.45577045, 1022.56227854, 1154.97198544, 1077.94506983,\n",
       "       1074.00873993, 1084.55546588, 1135.07084845, 1128.48391161,\n",
       "       1102.85078136, 1054.32277823, 1131.84884174, 1137.90208507,\n",
       "       1085.50151446, 1055.44096704, 1172.81694567, 1116.91773368,\n",
       "       1150.18028315, 1160.67245885, 1083.34429783, 1091.0275446 ,\n",
       "       1124.35313378, 1154.75565863, 1101.65688611, 1126.25329158,\n",
       "       1072.19119768, 1119.5614315 , 1060.10126111, 1030.7727385 ,\n",
       "       1176.36941461, 1144.34609849, 1117.30850377, 1081.93983336,\n",
       "       1168.60355229, 1108.67920842, 1107.55986809, 1173.31263901,\n",
       "       1169.59493897, 1106.80711591, 1139.93595413, 1140.711014  ,\n",
       "       1173.89094791, 1060.22115413, 1083.09645116, 1136.38348519,\n",
       "       1091.60585349, 1098.54556025, 1103.14857221, 1071.7047165 ,\n",
       "       1089.12738679, 1130.05360719, 1137.13623737, 1103.42909025,\n",
       "       1121.40200414, 1081.19629335, 1066.41732088, 1186.72787905,\n",
       "       1140.60609074, 1103.33726254, 1007.11316945, 1090.09070818,\n",
       "       1087.80553789, 1058.28832495, 1080.70060001, 1123.66068947,\n",
       "       1089.70569569, 1105.3200359 , 1089.14811416, 1102.10724135,\n",
       "       1200.19421478, 1070.92389903, 1133.90501849, 1095.57140021,\n",
       "       1167.72630102, 1071.28242656, 1111.92928043, 1114.66480596,\n",
       "       1090.94492904, 1138.45808627, 1154.09473417, 1116.47313604,\n",
       "       1135.83669615, 1119.37389269, 1136.63133186, 1151.83259429,\n",
       "       1195.31989694, 1162.82046332, 1076.82688101, 1059.72546079,\n",
       "       1029.08084687, 1062.16665003, 1073.34781547, 1137.81946951,\n",
       "       1064.09602465, 1097.39815462, 1078.0569022 , 1102.18064474,\n",
       "       1109.12956366, 1113.38829515, 1144.97550309, 1128.64914273,\n",
       "       1070.29103988, 1172.73433012, 1139.85333857, 1141.75349638,\n",
       "       1161.99430775, 1064.73233837, 1140.84472525, 1120.71804929,\n",
       "       1093.75385796, 1135.39209851, 1061.17526335, 1077.23074664,\n",
       "       1083.76658777, 1120.27345165, 1117.21667605, 1118.04283162,\n",
       "       1123.16499613, 1014.71380066, 1098.02180161, 1151.3684208 ,\n",
       "       1105.98096035, 1148.69320313, 1123.9911517 , 1059.3634787 ,\n",
       "       1094.88241046, 1102.56565723, 1128.78285398, 1145.7190431 ,\n",
       "       1107.31202142, 1105.81572924, 1186.23218571, 1019.20656057,\n",
       "       1175.24431667, 1030.77158698, 1098.3895413 , 1088.43839704,\n",
       "       1143.60255848, 1051.54652068, 1115.23390269, 1107.96373371,\n",
       "       1170.91678787, 1043.61542724, 1167.69478116, 1107.38542481,\n",
       "       1044.2763517 , 1101.44631689, 1070.45627099, 1080.5353689 ,\n",
       "       1094.91968792, 1043.24768756, 1070.21763648, 1126.74898492,\n",
       "       1057.95325664, 1124.73469171, 1118.86898719, 1210.35592825,\n",
       "       1034.98613189, 1163.48138777, 1125.20231975, 1117.22588821,\n",
       "       1127.87753742, 1090.54106342, 1098.46294469, 1175.49216334,\n",
       "       1084.83137785, 1120.28266381, 1162.90307888, 1111.40552179,\n",
       "       1172.98217679, 1088.35578149, 1077.97428665, 1129.55791385,\n",
       "       1091.93631572, 1145.05811864, 1052.33539879, 1091.19277571,\n",
       "       1066.21481231, 1137.37487187, 1059.56022967])"
      ]
     },
     "execution_count": 28,
     "metadata": {},
     "output_type": "execute_result"
    }
   ],
   "source": [
    "pred = model.predict(X_test)\n",
    "pred"
   ]
  },
  {
   "cell_type": "markdown",
   "metadata": {},
   "source": [
    "### 4. Sacar métricas, valorar el modelo \n",
    "\n",
    "Recuerda que en la competición se va a evaluar con la métrica de MAE."
   ]
  },
  {
   "cell_type": "code",
   "execution_count": 31,
   "metadata": {},
   "outputs": [
    {
     "name": "stdout",
     "output_type": "stream",
     "text": [
      "RMSE : 705.2026860694585\n"
     ]
    }
   ],
   "source": [
    "from sklearn.metrics import mean_squared_error\n",
    "import numpy as np\n",
    "print(\"RMSE :\", np.sqrt(mean_squared_error(y_test, pred)))"
   ]
  },
  {
   "cell_type": "code",
   "execution_count": null,
   "metadata": {},
   "outputs": [],
   "source": []
  },
  {
   "cell_type": "markdown",
   "metadata": {},
   "source": [
    "-----------------------------------------------------------------"
   ]
  },
  {
   "cell_type": "markdown",
   "metadata": {},
   "source": [
    "## Una vez listo el modelo, toca predecir con el dataset de predicción "
   ]
  },
  {
   "cell_type": "markdown",
   "metadata": {},
   "source": [
    "Definición de **modelo que está listo**. \n",
    "\n",
    "Tras hacer suficientes pruebas, analizar los datos, hacer feature engineering, probar diferentes modelos con diferentes parámetros, es con este con el que observo mejores métricas y menos overfitting. ¡Cuidado con el overfitting aquí! Si vuestro modelo aprende muy bien de estos datos pero hay overfitting cuando le pasemos los datos desconocidos de `test.csv` nos arriesgamos a que digamos, no salga lo esperado."
   ]
  },
  {
   "cell_type": "markdown",
   "metadata": {},
   "source": [
    "### 1. Entrena dicho modelo con TODOS tus datos de train, esto es con `train.csv` al completo.\n",
    "\n",
    "\n",
    "**CON LAS TRANSFORMACIONES QUE LE HAYAS REALIZADO A `X` INCLUÍDAS.**\n",
    "\n",
    "\n",
    "Véase:\n",
    "- Estandarización/Normalización\n",
    "- Eliminación de Outliers\n",
    "- Eliminación de columnas\n",
    "- Creación de columnas nuevas\n",
    "- Gestión de valores nulos\n",
    "- Y un largo etcétera de técnicas que como Data Scientist hayas considerado las mejores para tu dataset."
   ]
  },
  {
   "cell_type": "code",
   "execution_count": null,
   "metadata": {},
   "outputs": [],
   "source": []
  },
  {
   "cell_type": "markdown",
   "metadata": {},
   "source": [
    "### 2. Carga los datos de `test.csv` para predecir."
   ]
  },
  {
   "cell_type": "code",
   "execution_count": 35,
   "metadata": {},
   "outputs": [
    {
     "data": {
      "text/html": [
       "<div>\n",
       "<style scoped>\n",
       "    .dataframe tbody tr th:only-of-type {\n",
       "        vertical-align: middle;\n",
       "    }\n",
       "\n",
       "    .dataframe tbody tr th {\n",
       "        vertical-align: top;\n",
       "    }\n",
       "\n",
       "    .dataframe thead th {\n",
       "        text-align: right;\n",
       "    }\n",
       "</style>\n",
       "<table border=\"1\" class=\"dataframe\">\n",
       "  <thead>\n",
       "    <tr style=\"text-align: right;\">\n",
       "      <th></th>\n",
       "      <th>laptop_ID</th>\n",
       "      <th>Company</th>\n",
       "      <th>Product</th>\n",
       "      <th>TypeName</th>\n",
       "      <th>Inches</th>\n",
       "      <th>ScreenResolution</th>\n",
       "      <th>Cpu</th>\n",
       "      <th>Ram</th>\n",
       "      <th>Memory</th>\n",
       "      <th>Gpu</th>\n",
       "      <th>OpSys</th>\n",
       "      <th>Weight</th>\n",
       "    </tr>\n",
       "  </thead>\n",
       "  <tbody>\n",
       "    <tr>\n",
       "      <th>0</th>\n",
       "      <td>750</td>\n",
       "      <td>Toshiba</td>\n",
       "      <td>Tecra X40-D-10G</td>\n",
       "      <td>Notebook</td>\n",
       "      <td>14.0</td>\n",
       "      <td>IPS Panel Full HD / Touchscreen 1920x1080</td>\n",
       "      <td>Intel Core i5 7200U 2.5GHz</td>\n",
       "      <td>8GB</td>\n",
       "      <td>256GB SSD</td>\n",
       "      <td>Intel HD Graphics 620</td>\n",
       "      <td>Windows 10</td>\n",
       "      <td>1.25kg</td>\n",
       "    </tr>\n",
       "    <tr>\n",
       "      <th>1</th>\n",
       "      <td>726</td>\n",
       "      <td>Mediacom</td>\n",
       "      <td>Smartbook 142</td>\n",
       "      <td>Notebook</td>\n",
       "      <td>14.0</td>\n",
       "      <td>IPS Panel Full HD 1920x1200</td>\n",
       "      <td>Intel Atom Z8350 1.92GHz</td>\n",
       "      <td>4GB</td>\n",
       "      <td>32GB HDD</td>\n",
       "      <td>Intel HD Graphics 400</td>\n",
       "      <td>Windows 10</td>\n",
       "      <td>1.4kg</td>\n",
       "    </tr>\n",
       "    <tr>\n",
       "      <th>2</th>\n",
       "      <td>633</td>\n",
       "      <td>Mediacom</td>\n",
       "      <td>SmartBook 140</td>\n",
       "      <td>Notebook</td>\n",
       "      <td>14.0</td>\n",
       "      <td>Full HD 1920x1080</td>\n",
       "      <td>Intel Atom x5-Z8350 1.44GHz</td>\n",
       "      <td>2GB</td>\n",
       "      <td>32GB Flash Storage</td>\n",
       "      <td>Intel HD Graphics</td>\n",
       "      <td>Windows 10</td>\n",
       "      <td>1.4kg</td>\n",
       "    </tr>\n",
       "    <tr>\n",
       "      <th>3</th>\n",
       "      <td>363</td>\n",
       "      <td>Dell</td>\n",
       "      <td>Inspiron 7577</td>\n",
       "      <td>Gaming</td>\n",
       "      <td>15.6</td>\n",
       "      <td>Full HD 1920x1080</td>\n",
       "      <td>Intel Core i5 7300HQ 2.5GHz</td>\n",
       "      <td>8GB</td>\n",
       "      <td>1TB HDD</td>\n",
       "      <td>Nvidia GeForce GTX 1050</td>\n",
       "      <td>Windows 10</td>\n",
       "      <td>2.65kg</td>\n",
       "    </tr>\n",
       "    <tr>\n",
       "      <th>4</th>\n",
       "      <td>319</td>\n",
       "      <td>Asus</td>\n",
       "      <td>VivoBook Flip</td>\n",
       "      <td>2 in 1 Convertible</td>\n",
       "      <td>11.6</td>\n",
       "      <td>Touchscreen 1366x768</td>\n",
       "      <td>Intel Celeron Dual Core N3350 1.1GHz</td>\n",
       "      <td>2GB</td>\n",
       "      <td>32GB Flash Storage</td>\n",
       "      <td>Intel HD Graphics 500</td>\n",
       "      <td>Windows 10</td>\n",
       "      <td>1.1kg</td>\n",
       "    </tr>\n",
       "  </tbody>\n",
       "</table>\n",
       "</div>"
      ],
      "text/plain": [
       "   laptop_ID   Company          Product            TypeName  Inches  \\\n",
       "0        750   Toshiba  Tecra X40-D-10G            Notebook    14.0   \n",
       "1        726  Mediacom    Smartbook 142            Notebook    14.0   \n",
       "2        633  Mediacom    SmartBook 140            Notebook    14.0   \n",
       "3        363      Dell    Inspiron 7577              Gaming    15.6   \n",
       "4        319      Asus    VivoBook Flip  2 in 1 Convertible    11.6   \n",
       "\n",
       "                            ScreenResolution  \\\n",
       "0  IPS Panel Full HD / Touchscreen 1920x1080   \n",
       "1                IPS Panel Full HD 1920x1200   \n",
       "2                          Full HD 1920x1080   \n",
       "3                          Full HD 1920x1080   \n",
       "4                       Touchscreen 1366x768   \n",
       "\n",
       "                                    Cpu  Ram              Memory  \\\n",
       "0            Intel Core i5 7200U 2.5GHz  8GB           256GB SSD   \n",
       "1              Intel Atom Z8350 1.92GHz  4GB            32GB HDD   \n",
       "2           Intel Atom x5-Z8350 1.44GHz  2GB  32GB Flash Storage   \n",
       "3           Intel Core i5 7300HQ 2.5GHz  8GB             1TB HDD   \n",
       "4  Intel Celeron Dual Core N3350 1.1GHz  2GB  32GB Flash Storage   \n",
       "\n",
       "                       Gpu       OpSys  Weight  \n",
       "0    Intel HD Graphics 620  Windows 10  1.25kg  \n",
       "1    Intel HD Graphics 400  Windows 10   1.4kg  \n",
       "2        Intel HD Graphics  Windows 10   1.4kg  \n",
       "3  Nvidia GeForce GTX 1050  Windows 10  2.65kg  \n",
       "4    Intel HD Graphics 500  Windows 10   1.1kg  "
      ]
     },
     "execution_count": 35,
     "metadata": {},
     "output_type": "execute_result"
    }
   ],
   "source": [
    "X_pred = pd.read_csv(\"data/test.csv\")\n",
    "X_pred.head()"
   ]
  },
  {
   "cell_type": "code",
   "execution_count": 36,
   "metadata": {},
   "outputs": [],
   "source": [
    "X_pred = X_pred[[\"laptop_ID\", \"Inches\"]]"
   ]
  },
  {
   "cell_type": "code",
   "execution_count": 37,
   "metadata": {},
   "outputs": [
    {
     "data": {
      "text/html": [
       "<div>\n",
       "<style scoped>\n",
       "    .dataframe tbody tr th:only-of-type {\n",
       "        vertical-align: middle;\n",
       "    }\n",
       "\n",
       "    .dataframe tbody tr th {\n",
       "        vertical-align: top;\n",
       "    }\n",
       "\n",
       "    .dataframe thead th {\n",
       "        text-align: right;\n",
       "    }\n",
       "</style>\n",
       "<table border=\"1\" class=\"dataframe\">\n",
       "  <thead>\n",
       "    <tr style=\"text-align: right;\">\n",
       "      <th></th>\n",
       "      <th>laptop_ID</th>\n",
       "      <th>Inches</th>\n",
       "    </tr>\n",
       "  </thead>\n",
       "  <tbody>\n",
       "    <tr>\n",
       "      <th>0</th>\n",
       "      <td>750</td>\n",
       "      <td>14.0</td>\n",
       "    </tr>\n",
       "    <tr>\n",
       "      <th>1</th>\n",
       "      <td>726</td>\n",
       "      <td>14.0</td>\n",
       "    </tr>\n",
       "    <tr>\n",
       "      <th>2</th>\n",
       "      <td>633</td>\n",
       "      <td>14.0</td>\n",
       "    </tr>\n",
       "    <tr>\n",
       "      <th>3</th>\n",
       "      <td>363</td>\n",
       "      <td>15.6</td>\n",
       "    </tr>\n",
       "    <tr>\n",
       "      <th>4</th>\n",
       "      <td>319</td>\n",
       "      <td>11.6</td>\n",
       "    </tr>\n",
       "    <tr>\n",
       "      <th>...</th>\n",
       "      <td>...</td>\n",
       "      <td>...</td>\n",
       "    </tr>\n",
       "    <tr>\n",
       "      <th>386</th>\n",
       "      <td>693</td>\n",
       "      <td>15.6</td>\n",
       "    </tr>\n",
       "    <tr>\n",
       "      <th>387</th>\n",
       "      <td>1132</td>\n",
       "      <td>12.5</td>\n",
       "    </tr>\n",
       "    <tr>\n",
       "      <th>388</th>\n",
       "      <td>49</td>\n",
       "      <td>15.6</td>\n",
       "    </tr>\n",
       "    <tr>\n",
       "      <th>389</th>\n",
       "      <td>1243</td>\n",
       "      <td>15.6</td>\n",
       "    </tr>\n",
       "    <tr>\n",
       "      <th>390</th>\n",
       "      <td>924</td>\n",
       "      <td>12.5</td>\n",
       "    </tr>\n",
       "  </tbody>\n",
       "</table>\n",
       "<p>391 rows × 2 columns</p>\n",
       "</div>"
      ],
      "text/plain": [
       "     laptop_ID  Inches\n",
       "0          750    14.0\n",
       "1          726    14.0\n",
       "2          633    14.0\n",
       "3          363    15.6\n",
       "4          319    11.6\n",
       "..         ...     ...\n",
       "386        693    15.6\n",
       "387       1132    12.5\n",
       "388         49    15.6\n",
       "389       1243    15.6\n",
       "390        924    12.5\n",
       "\n",
       "[391 rows x 2 columns]"
      ]
     },
     "execution_count": 37,
     "metadata": {},
     "output_type": "execute_result"
    }
   ],
   "source": [
    "X_pred"
   ]
  },
  {
   "cell_type": "markdown",
   "metadata": {},
   "source": [
    "**¿Por qué da error?** "
   ]
  },
  {
   "cell_type": "code",
   "execution_count": 38,
   "metadata": {},
   "outputs": [
    {
     "data": {
      "text/plain": [
       "array([1094.83707236, 1092.854299  , 1085.17105224, 1097.8846358 ,\n",
       "       1006.70009166, 1069.05180653, 1115.10019144, 1124.89992282,\n",
       "       1097.63678913, 1150.59336094, 1068.1430354 , 1051.21605845,\n",
       "       1112.59020488, 1085.4923023 , 1072.60427546, 1130.68301179,\n",
       "       1027.22026957, 1086.98859448, 1110.35958485, 1147.28873867,\n",
       "       1123.9177483 , 1125.50975157, 1173.23002346, 1169.01663007,\n",
       "       1138.94456745, 1093.01953012, 1176.86510795, 1128.56652717,\n",
       "       1087.88815344, 1131.4265518 , 1074.42181771, 1110.27696929,\n",
       "       1149.10628092, 1159.59845661, 1147.53658534, 1057.70540997,\n",
       "       1129.69162511, 1073.2417407 , 1080.62719662, 1075.88083243,\n",
       "       1170.36999883, 1069.71273098, 1044.15645868, 1017.96732722,\n",
       "       1071.199811  , 1119.52991164, 1075.49581995, 1148.55949188,\n",
       "       1191.27173466, 1209.28192601, 1158.27660771, 1091.52323794,\n",
       "       1090.11877347, 1164.22492778, 1071.7781199 , 1141.42303415,\n",
       "       1098.71079136, 1060.73066571, 1101.40903944, 1075.55037021,\n",
       "       1071.53027323, 1097.55417357, 1137.95318077, 1121.76053167,\n",
       "       1090.77969793, 1109.0692558 , 1086.97938232, 1121.79205152,\n",
       "       1110.77266263, 1148.9410498 , 1151.00643872, 1021.35456505,\n",
       "       1170.28738328, 1025.32011177, 1171.16463454, 1101.6849514 ,\n",
       "       1089.8709268 , 1065.00479577, 1135.30948296, 1173.39525457,\n",
       "       1171.57771233, 1096.56278689, 1061.04730969, 1170.94830773,\n",
       "       1154.34258084, 1106.6418848 , 1124.37616418, 1076.54175689,\n",
       "       1079.95706001, 1126.99683159, 1062.91019004, 1115.31651825,\n",
       "       1114.32513157, 1098.84795718, 1158.8549166 , 1127.55283279,\n",
       "       1144.39719419, 1098.13248247, 1168.1904745 , 1075.00012661,\n",
       "       1109.1203515 , 1097.22371134, 1092.59724017, 1073.6782777 ,\n",
       "       1136.33238949, 1108.21158038, 1104.24603366, 1143.15796084,\n",
       "       1132.7484007 , 1163.31615666, 1112.59941704, 1038.14394737,\n",
       "       1037.13874245, 1122.94866932, 1107.43997507, 1040.27352752,\n",
       "       1052.001482  , 1146.49410296, 1078.5618077 , 1067.3714301 ,\n",
       "       1167.19908782, 1112.84726371, 1197.13743919, 1086.53823924,\n",
       "       1141.34041859, 1156.62429657, 1080.28752223, 1095.54909252,\n",
       "       1085.88192087, 1041.96311611, 1168.35570562, 1092.18416239,\n",
       "       1099.70217804, 1107.83002245, 1040.78764518, 1051.67447434,\n",
       "       1033.61894489, 1206.72084376, 1119.20290397, 1073.52225875,\n",
       "       1051.29867401, 1171.66032788, 1114.82082491, 1137.62271854,\n",
       "       1108.62465816, 1176.94772351, 1124.02267155, 1085.65753341,\n",
       "       1103.41987809, 1119.44729608, 1087.72292233, 1167.28170338,\n",
       "       1064.81034784, 1035.51910269, 1093.01031796, 1085.90538008,\n",
       "       1051.25794199, 1133.65717182, 1052.92522289, 1091.85370016,\n",
       "       1121.62682041, 1165.95985447, 1150.67597649, 1170.75155676,\n",
       "       1130.269934  , 1195.65035917, 1043.57814978, 1083.67476005,\n",
       "       1027.18874971, 1087.06199788, 1126.71746507, 1173.64310124,\n",
       "       1118.62114052, 1129.27854732, 1084.99660896, 1082.51814226,\n",
       "       1111.29987583, 1100.9133461 , 1050.02676928, 1022.23181631,\n",
       "       1097.96725135, 1092.10154683, 1151.08905428, 1122.75191835,\n",
       "       1197.46790141, 1108.95512039, 1099.7567283 , 1136.41500505,\n",
       "       1009.59163615, 1122.66930279, 1095.4061691 , 1158.02876104,\n",
       "       1111.32290623, 1159.84630328, 1145.63642754, 1202.09437258,\n",
       "       1018.87609835, 1120.85176054, 1127.65775605, 1111.18574042,\n",
       "       1091.66500983, 1096.23232466, 1025.0722651 , 1084.74876229,\n",
       "       1107.58217578, 1037.29936748, 1106.11812617, 1032.83812742,\n",
       "       1113.33374489, 1061.95608082, 1025.56795844, 1125.3130006 ,\n",
       "       1112.34235821, 1100.95062355, 1122.50407168, 1099.04125359,\n",
       "       1143.90150085, 1196.55913029, 1072.85212213, 1088.38384678,\n",
       "       1081.77460225, 1170.33847898, 1120.03481714, 1121.34745388,\n",
       "       1126.50113825, 1081.0402744 , 1090.0126987 , 1116.63836716,\n",
       "       1027.30288513, 1097.69133939, 1130.46668497, 1143.07534528,\n",
       "       1101.35448918, 1110.9694136 , 1126.80008062, 1049.93954765,\n",
       "       1155.88075656, 1075.99151329, 1113.498976  , 1119.36468053,\n",
       "       1130.19653061, 1016.44872735, 1025.36314682, 1191.51958133,\n",
       "       1128.53500731, 1080.46196551, 1031.02634278, 1120.77835715,\n",
       "       1119.86958603, 1119.70435491, 1100.85879584, 1118.4559094 ,\n",
       "       1063.19531417, 1069.96057765, 1048.58617888, 1165.05108335,\n",
       "       1110.74459734, 1103.06135057, 1041.51736695, 1133.57455627,\n",
       "       1045.84604727, 1055.84252963, 1098.96785019, 1168.68616784,\n",
       "       1101.51972029, 1102.48304167, 1125.23038505, 1176.03895238,\n",
       "       1033.91212966, 1075.5784355 , 1155.21983211, 1144.31457863,\n",
       "       1087.3924601 , 1148.77581869, 1166.07398989, 1166.62077893,\n",
       "       1187.14095683, 1110.69004708, 1171.41248121, 1204.82068595,\n",
       "       1094.38671712, 1110.49675067, 1194.41112582, 1151.69888303,\n",
       "       1149.60197426, 1122.58668723, 1075.16535772, 1132.86253612,\n",
       "       1179.45771006, 1113.55352626, 1081.85721781, 1150.01505204,\n",
       "       1175.0475657 , 1086.48368898, 1090.03615792, 1176.40093447,\n",
       "       1082.21071044, 1121.04851151, 1105.78766394, 1095.82845904,\n",
       "       1113.41636045, 1080.03967556, 1130.76562734, 1197.71574808,\n",
       "       1074.51364543, 1124.32161392, 1086.5755167 , 1095.15832243,\n",
       "       1162.60413651, 1058.69679665, 1079.35529189, 1148.85843425,\n",
       "       1073.43043103, 1093.06486822, 1148.52797202, 1072.08051683,\n",
       "       1126.83160048, 1136.06223513, 1126.35893754, 1105.48526701,\n",
       "       1086.16243891, 1089.95354236, 1115.926347  , 1152.77288527,\n",
       "       1112.67282044, 1121.37897374, 1103.84216804, 1068.80395986,\n",
       "       1160.7550744 , 1109.6986604 , 1080.67253472, 1115.72959603,\n",
       "       1198.54190365, 1122.33884056, 1099.53694693, 1135.2268674 ,\n",
       "       1127.54362063, 1088.96215568, 1033.70156044, 1156.29383435,\n",
       "       1045.10250726, 1103.66772476, 1176.12156794, 1095.98447799,\n",
       "       1174.79971903, 1076.56982218, 1108.37681149, 1143.35471181,\n",
       "       1075.24797328, 1129.36461744, 1115.81221159, 1130.27914616,\n",
       "       1111.68143376, 1133.82240294, 1077.06551552, 1066.91301422,\n",
       "       1099.38092798, 1125.17928935, 1195.15466583, 1117.05144494,\n",
       "       1121.56723526, 1160.58984329, 1075.74366662, 1138.81085619,\n",
       "       1105.49447917, 1076.48720663, 1142.00134305, 1157.5330677 ,\n",
       "       1129.28775948, 1114.57297824, 1054.61711452, 1070.95196433,\n",
       "       1183.83633457, 1162.49000109, 1166.20770114, 1092.60645233,\n",
       "       1124.56946059, 1137.30146848, 1112.1771271 , 1095.04764157,\n",
       "       1036.9373854 , 1052.25278323, 1029.83244752, 1095.07570687,\n",
       "       1163.81185   , 1097.3063269 , 1125.14776949, 1093.56516764,\n",
       "       1071.94335101, 1170.58632565, 1076.38113185])"
      ]
     },
     "execution_count": 38,
     "metadata": {},
     "output_type": "execute_result"
    }
   ],
   "source": [
    "predictions_submit = model.predict(X_pred)\n",
    "predictions_submit"
   ]
  },
  {
   "cell_type": "markdown",
   "metadata": {},
   "source": [
    "IMPORTANTE: APLICAR LO MISMO A ESTOS DATOS QUE HAYÁIS APLICADO A LOS DATOS DE ENTRENAMIENTO\n",
    "\n",
    "- SI EL ARRAY CON EL QUE HICISTEIS `.fit()` ERA DE 4 COLUMNAS, PARA `.predict()` DEBEN SER LAS MISMAS\n",
    "- SI AL ARRAY CON EL QUE HICISTEIS `.fit()` LO NORMALIZASTEIS, PARA `.predict()` DEBÉIS NORMALIZARLO\n",
    "- TODO IGUAL SALVO BORRAR FILAS, EL NÚMERO DE ROWS SE DEBE MANTENER EN ESTE SET, PUES LA PREDICCIÓN DEBE TENER 391 FILAS, SI O SI"
   ]
  },
  {
   "cell_type": "markdown",
   "metadata": {},
   "source": [
    "**Entonces, si al cargar los datos de train usé `index_col=0` para que utilizara la primera columna del conjunto de datos como índice, ¿tendré que hacerlo también para el conjunto `test.csv`?**"
   ]
  },
  {
   "cell_type": "code",
   "execution_count": null,
   "metadata": {},
   "outputs": [],
   "source": [
    "# ¿Qué opináis?\n",
    "# Sí"
   ]
  },
  {
   "cell_type": "markdown",
   "metadata": {},
   "source": [
    "![](https://www.tierraljelechu.com/web/img/wiki_up/1.996-SorpresaDto.-1-Red.jpg)"
   ]
  },
  {
   "cell_type": "code",
   "execution_count": 20,
   "metadata": {},
   "outputs": [
    {
     "data": {
      "text/html": [
       "<div>\n",
       "<style scoped>\n",
       "    .dataframe tbody tr th:only-of-type {\n",
       "        vertical-align: middle;\n",
       "    }\n",
       "\n",
       "    .dataframe tbody tr th {\n",
       "        vertical-align: top;\n",
       "    }\n",
       "\n",
       "    .dataframe thead th {\n",
       "        text-align: right;\n",
       "    }\n",
       "</style>\n",
       "<table border=\"1\" class=\"dataframe\">\n",
       "  <thead>\n",
       "    <tr style=\"text-align: right;\">\n",
       "      <th></th>\n",
       "      <th>Company</th>\n",
       "      <th>Product</th>\n",
       "      <th>TypeName</th>\n",
       "      <th>Inches</th>\n",
       "      <th>ScreenResolution</th>\n",
       "      <th>Cpu</th>\n",
       "      <th>Ram</th>\n",
       "      <th>Memory</th>\n",
       "      <th>Gpu</th>\n",
       "      <th>OpSys</th>\n",
       "      <th>Weight</th>\n",
       "    </tr>\n",
       "    <tr>\n",
       "      <th>id</th>\n",
       "      <th></th>\n",
       "      <th></th>\n",
       "      <th></th>\n",
       "      <th></th>\n",
       "      <th></th>\n",
       "      <th></th>\n",
       "      <th></th>\n",
       "      <th></th>\n",
       "      <th></th>\n",
       "      <th></th>\n",
       "      <th></th>\n",
       "    </tr>\n",
       "  </thead>\n",
       "  <tbody>\n",
       "    <tr>\n",
       "      <th>1184</th>\n",
       "      <td>HP</td>\n",
       "      <td>Pavilion 15-BC000nv</td>\n",
       "      <td>Notebook</td>\n",
       "      <td>15.6</td>\n",
       "      <td>IPS Panel Full HD 1920x1080</td>\n",
       "      <td>Intel Core i7 6700HQ 2.6GHz</td>\n",
       "      <td>6GB</td>\n",
       "      <td>1TB HDD</td>\n",
       "      <td>Nvidia GeForce GTX 960M</td>\n",
       "      <td>Windows 10</td>\n",
       "      <td>2.18kg</td>\n",
       "    </tr>\n",
       "    <tr>\n",
       "      <th>815</th>\n",
       "      <td>Lenovo</td>\n",
       "      <td>Thinkpad T470s</td>\n",
       "      <td>Ultrabook</td>\n",
       "      <td>14.0</td>\n",
       "      <td>Full HD 1920x1080</td>\n",
       "      <td>Intel Core i7 7500U 2.7GHz</td>\n",
       "      <td>8GB</td>\n",
       "      <td>256GB SSD</td>\n",
       "      <td>Intel HD Graphics 620</td>\n",
       "      <td>Windows 10</td>\n",
       "      <td>1.32kg</td>\n",
       "    </tr>\n",
       "    <tr>\n",
       "      <th>1244</th>\n",
       "      <td>HP</td>\n",
       "      <td>EliteBook 840</td>\n",
       "      <td>Notebook</td>\n",
       "      <td>14.0</td>\n",
       "      <td>Full HD 1920x1080</td>\n",
       "      <td>Intel Core i5 6200U 2.3GHz</td>\n",
       "      <td>4GB</td>\n",
       "      <td>256GB SSD</td>\n",
       "      <td>Intel HD Graphics 520</td>\n",
       "      <td>Windows 7</td>\n",
       "      <td>1.54kg</td>\n",
       "    </tr>\n",
       "    <tr>\n",
       "      <th>1121</th>\n",
       "      <td>HP</td>\n",
       "      <td>Spectre Pro</td>\n",
       "      <td>Notebook</td>\n",
       "      <td>13.3</td>\n",
       "      <td>Full HD 1920x1080</td>\n",
       "      <td>Intel Core i5 6200U 2.3GHz</td>\n",
       "      <td>8GB</td>\n",
       "      <td>256GB SSD</td>\n",
       "      <td>Intel HD Graphics 520</td>\n",
       "      <td>Windows 10</td>\n",
       "      <td>1.16kg</td>\n",
       "    </tr>\n",
       "    <tr>\n",
       "      <th>443</th>\n",
       "      <td>Lenovo</td>\n",
       "      <td>IdeaPad 320-15IAP</td>\n",
       "      <td>Notebook</td>\n",
       "      <td>15.6</td>\n",
       "      <td>Full HD 1920x1080</td>\n",
       "      <td>Intel Pentium Quad Core N4200 1.1GHz</td>\n",
       "      <td>4GB</td>\n",
       "      <td>128GB SSD</td>\n",
       "      <td>Intel HD Graphics 505</td>\n",
       "      <td>Windows 10</td>\n",
       "      <td>2.2kg</td>\n",
       "    </tr>\n",
       "  </tbody>\n",
       "</table>\n",
       "</div>"
      ],
      "text/plain": [
       "     Company              Product   TypeName  Inches  \\\n",
       "id                                                     \n",
       "1184      HP  Pavilion 15-BC000nv   Notebook    15.6   \n",
       "815   Lenovo       Thinkpad T470s  Ultrabook    14.0   \n",
       "1244      HP        EliteBook 840   Notebook    14.0   \n",
       "1121      HP          Spectre Pro   Notebook    13.3   \n",
       "443   Lenovo    IdeaPad 320-15IAP   Notebook    15.6   \n",
       "\n",
       "                 ScreenResolution                                   Cpu  Ram  \\\n",
       "id                                                                             \n",
       "1184  IPS Panel Full HD 1920x1080           Intel Core i7 6700HQ 2.6GHz  6GB   \n",
       "815             Full HD 1920x1080            Intel Core i7 7500U 2.7GHz  8GB   \n",
       "1244            Full HD 1920x1080            Intel Core i5 6200U 2.3GHz  4GB   \n",
       "1121            Full HD 1920x1080            Intel Core i5 6200U 2.3GHz  8GB   \n",
       "443             Full HD 1920x1080  Intel Pentium Quad Core N4200 1.1GHz  4GB   \n",
       "\n",
       "         Memory                      Gpu       OpSys  Weight  \n",
       "id                                                            \n",
       "1184    1TB HDD  Nvidia GeForce GTX 960M  Windows 10  2.18kg  \n",
       "815   256GB SSD    Intel HD Graphics 620  Windows 10  1.32kg  \n",
       "1244  256GB SSD    Intel HD Graphics 520   Windows 7  1.54kg  \n",
       "1121  256GB SSD    Intel HD Graphics 520  Windows 10  1.16kg  \n",
       "443   128GB SSD    Intel HD Graphics 505  Windows 10   2.2kg  "
      ]
     },
     "execution_count": 20,
     "metadata": {},
     "output_type": "execute_result"
    }
   ],
   "source": [
    "X_pred = pd.read_csv(\"Dataset/test.csv\", index_col=0)\n",
    "X_pred.head()"
   ]
  },
  {
   "cell_type": "markdown",
   "metadata": {},
   "source": [
    "### 3. AHORA puedo hacer la predicción que será lo que subirás a Kaggle. "
   ]
  },
  {
   "cell_type": "markdown",
   "metadata": {},
   "source": [
    "**¿Qué es lo que subirás a Kaggle?**"
   ]
  },
  {
   "cell_type": "code",
   "execution_count": 39,
   "metadata": {},
   "outputs": [
    {
     "data": {
      "text/plain": [
       "array([1094.83707236, 1092.854299  , 1085.17105224, 1097.8846358 ,\n",
       "       1006.70009166, 1069.05180653, 1115.10019144, 1124.89992282,\n",
       "       1097.63678913, 1150.59336094, 1068.1430354 , 1051.21605845,\n",
       "       1112.59020488, 1085.4923023 , 1072.60427546, 1130.68301179,\n",
       "       1027.22026957, 1086.98859448, 1110.35958485, 1147.28873867,\n",
       "       1123.9177483 , 1125.50975157, 1173.23002346, 1169.01663007,\n",
       "       1138.94456745, 1093.01953012, 1176.86510795, 1128.56652717,\n",
       "       1087.88815344, 1131.4265518 , 1074.42181771, 1110.27696929,\n",
       "       1149.10628092, 1159.59845661, 1147.53658534, 1057.70540997,\n",
       "       1129.69162511, 1073.2417407 , 1080.62719662, 1075.88083243,\n",
       "       1170.36999883, 1069.71273098, 1044.15645868, 1017.96732722,\n",
       "       1071.199811  , 1119.52991164, 1075.49581995, 1148.55949188,\n",
       "       1191.27173466, 1209.28192601, 1158.27660771, 1091.52323794,\n",
       "       1090.11877347, 1164.22492778, 1071.7781199 , 1141.42303415,\n",
       "       1098.71079136, 1060.73066571, 1101.40903944, 1075.55037021,\n",
       "       1071.53027323, 1097.55417357, 1137.95318077, 1121.76053167,\n",
       "       1090.77969793, 1109.0692558 , 1086.97938232, 1121.79205152,\n",
       "       1110.77266263, 1148.9410498 , 1151.00643872, 1021.35456505,\n",
       "       1170.28738328, 1025.32011177, 1171.16463454, 1101.6849514 ,\n",
       "       1089.8709268 , 1065.00479577, 1135.30948296, 1173.39525457,\n",
       "       1171.57771233, 1096.56278689, 1061.04730969, 1170.94830773,\n",
       "       1154.34258084, 1106.6418848 , 1124.37616418, 1076.54175689,\n",
       "       1079.95706001, 1126.99683159, 1062.91019004, 1115.31651825,\n",
       "       1114.32513157, 1098.84795718, 1158.8549166 , 1127.55283279,\n",
       "       1144.39719419, 1098.13248247, 1168.1904745 , 1075.00012661,\n",
       "       1109.1203515 , 1097.22371134, 1092.59724017, 1073.6782777 ,\n",
       "       1136.33238949, 1108.21158038, 1104.24603366, 1143.15796084,\n",
       "       1132.7484007 , 1163.31615666, 1112.59941704, 1038.14394737,\n",
       "       1037.13874245, 1122.94866932, 1107.43997507, 1040.27352752,\n",
       "       1052.001482  , 1146.49410296, 1078.5618077 , 1067.3714301 ,\n",
       "       1167.19908782, 1112.84726371, 1197.13743919, 1086.53823924,\n",
       "       1141.34041859, 1156.62429657, 1080.28752223, 1095.54909252,\n",
       "       1085.88192087, 1041.96311611, 1168.35570562, 1092.18416239,\n",
       "       1099.70217804, 1107.83002245, 1040.78764518, 1051.67447434,\n",
       "       1033.61894489, 1206.72084376, 1119.20290397, 1073.52225875,\n",
       "       1051.29867401, 1171.66032788, 1114.82082491, 1137.62271854,\n",
       "       1108.62465816, 1176.94772351, 1124.02267155, 1085.65753341,\n",
       "       1103.41987809, 1119.44729608, 1087.72292233, 1167.28170338,\n",
       "       1064.81034784, 1035.51910269, 1093.01031796, 1085.90538008,\n",
       "       1051.25794199, 1133.65717182, 1052.92522289, 1091.85370016,\n",
       "       1121.62682041, 1165.95985447, 1150.67597649, 1170.75155676,\n",
       "       1130.269934  , 1195.65035917, 1043.57814978, 1083.67476005,\n",
       "       1027.18874971, 1087.06199788, 1126.71746507, 1173.64310124,\n",
       "       1118.62114052, 1129.27854732, 1084.99660896, 1082.51814226,\n",
       "       1111.29987583, 1100.9133461 , 1050.02676928, 1022.23181631,\n",
       "       1097.96725135, 1092.10154683, 1151.08905428, 1122.75191835,\n",
       "       1197.46790141, 1108.95512039, 1099.7567283 , 1136.41500505,\n",
       "       1009.59163615, 1122.66930279, 1095.4061691 , 1158.02876104,\n",
       "       1111.32290623, 1159.84630328, 1145.63642754, 1202.09437258,\n",
       "       1018.87609835, 1120.85176054, 1127.65775605, 1111.18574042,\n",
       "       1091.66500983, 1096.23232466, 1025.0722651 , 1084.74876229,\n",
       "       1107.58217578, 1037.29936748, 1106.11812617, 1032.83812742,\n",
       "       1113.33374489, 1061.95608082, 1025.56795844, 1125.3130006 ,\n",
       "       1112.34235821, 1100.95062355, 1122.50407168, 1099.04125359,\n",
       "       1143.90150085, 1196.55913029, 1072.85212213, 1088.38384678,\n",
       "       1081.77460225, 1170.33847898, 1120.03481714, 1121.34745388,\n",
       "       1126.50113825, 1081.0402744 , 1090.0126987 , 1116.63836716,\n",
       "       1027.30288513, 1097.69133939, 1130.46668497, 1143.07534528,\n",
       "       1101.35448918, 1110.9694136 , 1126.80008062, 1049.93954765,\n",
       "       1155.88075656, 1075.99151329, 1113.498976  , 1119.36468053,\n",
       "       1130.19653061, 1016.44872735, 1025.36314682, 1191.51958133,\n",
       "       1128.53500731, 1080.46196551, 1031.02634278, 1120.77835715,\n",
       "       1119.86958603, 1119.70435491, 1100.85879584, 1118.4559094 ,\n",
       "       1063.19531417, 1069.96057765, 1048.58617888, 1165.05108335,\n",
       "       1110.74459734, 1103.06135057, 1041.51736695, 1133.57455627,\n",
       "       1045.84604727, 1055.84252963, 1098.96785019, 1168.68616784,\n",
       "       1101.51972029, 1102.48304167, 1125.23038505, 1176.03895238,\n",
       "       1033.91212966, 1075.5784355 , 1155.21983211, 1144.31457863,\n",
       "       1087.3924601 , 1148.77581869, 1166.07398989, 1166.62077893,\n",
       "       1187.14095683, 1110.69004708, 1171.41248121, 1204.82068595,\n",
       "       1094.38671712, 1110.49675067, 1194.41112582, 1151.69888303,\n",
       "       1149.60197426, 1122.58668723, 1075.16535772, 1132.86253612,\n",
       "       1179.45771006, 1113.55352626, 1081.85721781, 1150.01505204,\n",
       "       1175.0475657 , 1086.48368898, 1090.03615792, 1176.40093447,\n",
       "       1082.21071044, 1121.04851151, 1105.78766394, 1095.82845904,\n",
       "       1113.41636045, 1080.03967556, 1130.76562734, 1197.71574808,\n",
       "       1074.51364543, 1124.32161392, 1086.5755167 , 1095.15832243,\n",
       "       1162.60413651, 1058.69679665, 1079.35529189, 1148.85843425,\n",
       "       1073.43043103, 1093.06486822, 1148.52797202, 1072.08051683,\n",
       "       1126.83160048, 1136.06223513, 1126.35893754, 1105.48526701,\n",
       "       1086.16243891, 1089.95354236, 1115.926347  , 1152.77288527,\n",
       "       1112.67282044, 1121.37897374, 1103.84216804, 1068.80395986,\n",
       "       1160.7550744 , 1109.6986604 , 1080.67253472, 1115.72959603,\n",
       "       1198.54190365, 1122.33884056, 1099.53694693, 1135.2268674 ,\n",
       "       1127.54362063, 1088.96215568, 1033.70156044, 1156.29383435,\n",
       "       1045.10250726, 1103.66772476, 1176.12156794, 1095.98447799,\n",
       "       1174.79971903, 1076.56982218, 1108.37681149, 1143.35471181,\n",
       "       1075.24797328, 1129.36461744, 1115.81221159, 1130.27914616,\n",
       "       1111.68143376, 1133.82240294, 1077.06551552, 1066.91301422,\n",
       "       1099.38092798, 1125.17928935, 1195.15466583, 1117.05144494,\n",
       "       1121.56723526, 1160.58984329, 1075.74366662, 1138.81085619,\n",
       "       1105.49447917, 1076.48720663, 1142.00134305, 1157.5330677 ,\n",
       "       1129.28775948, 1114.57297824, 1054.61711452, 1070.95196433,\n",
       "       1183.83633457, 1162.49000109, 1166.20770114, 1092.60645233,\n",
       "       1124.56946059, 1137.30146848, 1112.1771271 , 1095.04764157,\n",
       "       1036.9373854 , 1052.25278323, 1029.83244752, 1095.07570687,\n",
       "       1163.81185   , 1097.3063269 , 1125.14776949, 1093.56516764,\n",
       "       1071.94335101, 1170.58632565, 1076.38113185])"
      ]
     },
     "execution_count": 39,
     "metadata": {},
     "output_type": "execute_result"
    }
   ],
   "source": [
    "predictions_submit = model.predict(X_pred)\n",
    "predictions_submit"
   ]
  },
  {
   "cell_type": "markdown",
   "metadata": {},
   "source": [
    "**¡PERO! Para subir a Kaggle la predicción, ésta tendrá que tener una forma específica y no valdrá otra.**\n",
    "\n",
    "En este caso, la **MISMA** forma que `sample_submission.csv`. "
   ]
  },
  {
   "cell_type": "code",
   "execution_count": 40,
   "metadata": {},
   "outputs": [],
   "source": [
    "sample = pd.read_csv(\"data/sample_submission.csv\")"
   ]
  },
  {
   "cell_type": "code",
   "execution_count": 41,
   "metadata": {},
   "outputs": [
    {
     "data": {
      "text/plain": [
       "(391, 2)"
      ]
     },
     "execution_count": 41,
     "metadata": {},
     "output_type": "execute_result"
    }
   ],
   "source": [
    "sample.shape"
   ]
  },
  {
   "cell_type": "code",
   "execution_count": 24,
   "metadata": {},
   "outputs": [
    {
     "data": {
      "text/html": [
       "<div>\n",
       "<style scoped>\n",
       "    .dataframe tbody tr th:only-of-type {\n",
       "        vertical-align: middle;\n",
       "    }\n",
       "\n",
       "    .dataframe tbody tr th {\n",
       "        vertical-align: top;\n",
       "    }\n",
       "\n",
       "    .dataframe thead th {\n",
       "        text-align: right;\n",
       "    }\n",
       "</style>\n",
       "<table border=\"1\" class=\"dataframe\">\n",
       "  <thead>\n",
       "    <tr style=\"text-align: right;\">\n",
       "      <th></th>\n",
       "      <th>id</th>\n",
       "      <th>Price_euros</th>\n",
       "    </tr>\n",
       "  </thead>\n",
       "  <tbody>\n",
       "    <tr>\n",
       "      <th>0</th>\n",
       "      <td>1184</td>\n",
       "      <td>2158</td>\n",
       "    </tr>\n",
       "    <tr>\n",
       "      <th>1</th>\n",
       "      <td>815</td>\n",
       "      <td>511</td>\n",
       "    </tr>\n",
       "    <tr>\n",
       "      <th>2</th>\n",
       "      <td>1244</td>\n",
       "      <td>5290</td>\n",
       "    </tr>\n",
       "    <tr>\n",
       "      <th>3</th>\n",
       "      <td>1121</td>\n",
       "      <td>622</td>\n",
       "    </tr>\n",
       "    <tr>\n",
       "      <th>4</th>\n",
       "      <td>443</td>\n",
       "      <td>1140</td>\n",
       "    </tr>\n",
       "  </tbody>\n",
       "</table>\n",
       "</div>"
      ],
      "text/plain": [
       "     id  Price_euros\n",
       "0  1184         2158\n",
       "1   815          511\n",
       "2  1244         5290\n",
       "3  1121          622\n",
       "4   443         1140"
      ]
     },
     "execution_count": 24,
     "metadata": {},
     "output_type": "execute_result"
    }
   ],
   "source": [
    "sample.head()"
   ]
  },
  {
   "cell_type": "code",
   "execution_count": 25,
   "metadata": {},
   "outputs": [
    {
     "data": {
      "text/plain": [
       "(391, 2)"
      ]
     },
     "execution_count": 25,
     "metadata": {},
     "output_type": "execute_result"
    }
   ],
   "source": [
    "sample.shape"
   ]
  },
  {
   "cell_type": "markdown",
   "metadata": {},
   "source": [
    "### 4. Mete tus predicciones en un dataframe. \n",
    "\n",
    "En este caso, la **MISMA** forma que `sample_submission.csv`. "
   ]
  },
  {
   "cell_type": "code",
   "execution_count": 42,
   "metadata": {},
   "outputs": [],
   "source": [
    "submission = pd.DataFrame({\"laptop_id\": sample[\"laptop_ID\"], \"Price_euros\": predictions_submit})"
   ]
  },
  {
   "cell_type": "code",
   "execution_count": 44,
   "metadata": {},
   "outputs": [
    {
     "data": {
      "text/html": [
       "<div>\n",
       "<style scoped>\n",
       "    .dataframe tbody tr th:only-of-type {\n",
       "        vertical-align: middle;\n",
       "    }\n",
       "\n",
       "    .dataframe tbody tr th {\n",
       "        vertical-align: top;\n",
       "    }\n",
       "\n",
       "    .dataframe thead th {\n",
       "        text-align: right;\n",
       "    }\n",
       "</style>\n",
       "<table border=\"1\" class=\"dataframe\">\n",
       "  <thead>\n",
       "    <tr style=\"text-align: right;\">\n",
       "      <th></th>\n",
       "      <th>laptop_id</th>\n",
       "      <th>Price_euros</th>\n",
       "    </tr>\n",
       "  </thead>\n",
       "  <tbody>\n",
       "    <tr>\n",
       "      <th>0</th>\n",
       "      <td>750</td>\n",
       "      <td>1094.837072</td>\n",
       "    </tr>\n",
       "    <tr>\n",
       "      <th>1</th>\n",
       "      <td>726</td>\n",
       "      <td>1092.854299</td>\n",
       "    </tr>\n",
       "    <tr>\n",
       "      <th>2</th>\n",
       "      <td>633</td>\n",
       "      <td>1085.171052</td>\n",
       "    </tr>\n",
       "    <tr>\n",
       "      <th>3</th>\n",
       "      <td>363</td>\n",
       "      <td>1097.884636</td>\n",
       "    </tr>\n",
       "    <tr>\n",
       "      <th>4</th>\n",
       "      <td>319</td>\n",
       "      <td>1006.700092</td>\n",
       "    </tr>\n",
       "  </tbody>\n",
       "</table>\n",
       "</div>"
      ],
      "text/plain": [
       "   laptop_id  Price_euros\n",
       "0        750  1094.837072\n",
       "1        726  1092.854299\n",
       "2        633  1085.171052\n",
       "3        363  1097.884636\n",
       "4        319  1006.700092"
      ]
     },
     "execution_count": 44,
     "metadata": {},
     "output_type": "execute_result"
    }
   ],
   "source": [
    "submission.head()"
   ]
  },
  {
   "cell_type": "code",
   "execution_count": 28,
   "metadata": {},
   "outputs": [
    {
     "data": {
      "text/plain": [
       "(391, 2)"
      ]
     },
     "execution_count": 28,
     "metadata": {},
     "output_type": "execute_result"
    }
   ],
   "source": [
    "submission.shape"
   ]
  },
  {
   "cell_type": "markdown",
   "metadata": {},
   "source": [
    "### 5. Pásale el CHEQUEATOR para comprobar que efectivamente está listo para subir a Kaggle."
   ]
  },
  {
   "cell_type": "code",
   "execution_count": 53,
   "metadata": {},
   "outputs": [],
   "source": [
    "def chequeator(df_to_submit):\n",
    "    \"\"\"\n",
    "    Esta función se asegura de que tu submission tenga la forma requerida por Kaggle.\n",
    "    \n",
    "    Si es así, se guardará el dataframe en un `csv` y estará listo para subir a Kaggle.\n",
    "    \n",
    "    Si no, LEE EL MENSAJE Y HAZLE CASO.\n",
    "    \n",
    "    Si aún no:\n",
    "    - apaga tu ordenador, \n",
    "    - date una vuelta, \n",
    "    - enciendelo otra vez, \n",
    "    - abre este notebook y \n",
    "    - leelo todo de nuevo. \n",
    "    Todos nos merecemos una segunda oportunidad. También tú.\n",
    "    \"\"\"\n",
    "    if df_to_submit.shape == sample.shape:\n",
    "        if df_to_submit.columns.all() == sample.columns.all():\n",
    "            if df_to_submit.laptop_id.all() == sample.FWS.all():\n",
    "                print(\"You're ready to submit!\")\n",
    "                submission.to_csv(\"submission.csv\", index = False) #muy importante el index = False\n",
    "                urllib.request.urlretrieve(\"https://i.kym-cdn.com/photos/images/facebook/000/747/556/27a.jpg\", \"gfg.png\")     \n",
    "                img = Image.open(\"gfg.png\")\n",
    "                img.show()   \n",
    "            else:\n",
    "                print(\"Check the ids and try again\")\n",
    "        else:\n",
    "            print(\"Check the names of the columns and try again\")\n",
    "    else:\n",
    "        print(\"Check the number of rows and/or columns and try again\")\n",
    "        print(\"\\nMensaje secreto de Clara: No me puedo creer que después de todo este notebook hayas hecho algún cambio en las filas de `diamonds_test.csv`. Lloro.\")\n"
   ]
  },
  {
   "cell_type": "code",
   "execution_count": 54,
   "metadata": {},
   "outputs": [
    {
     "name": "stdout",
     "output_type": "stream",
     "text": [
      "You're ready to submit!\n"
     ]
    }
   ],
   "source": [
    "chequeator(submission)"
   ]
  },
  {
   "cell_type": "code",
   "execution_count": null,
   "metadata": {},
   "outputs": [],
   "source": []
  }
 ],
 "metadata": {
  "kernelspec": {
   "display_name": "Python 3",
   "language": "python",
   "name": "python3"
  },
  "language_info": {
   "codemirror_mode": {
    "name": "ipython",
    "version": 3
   },
   "file_extension": ".py",
   "mimetype": "text/x-python",
   "name": "python",
   "nbconvert_exporter": "python",
   "pygments_lexer": "ipython3",
   "version": "3.10.4"
  }
 },
 "nbformat": 4,
 "nbformat_minor": 4
}
