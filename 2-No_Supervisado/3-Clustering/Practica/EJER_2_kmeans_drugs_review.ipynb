{
 "cells": [
  {
   "cell_type": "code",
   "execution_count": 83,
   "metadata": {},
   "outputs": [],
   "source": [
    "\n",
    "import pandas as pd\n",
    "import numpy as np\n",
    "import matplotlib.pyplot as plt\n",
    "from sklearn.cluster import KMeans\n",
    "\n"
   ]
  },
  {
   "attachments": {},
   "cell_type": "markdown",
   "metadata": {},
   "source": [
    "### Importa los datos\n",
    "Dataset con diferentes fármacos, sus efectos y ratings de los clientes.\n",
    "\n",
    "Importa el dataset *drugLibTrain_raw.tsv*"
   ]
  },
  {
   "cell_type": "code",
   "execution_count": 84,
   "metadata": {},
   "outputs": [],
   "source": [
    "df = pd.read_csv(r\"C:\\Users\\mareg\\OneDrive\\Documentos\\TheBridge_Enero\\Machine_Learning\\2-No_Supervisado\\3-Clustering\\Practica\\data\\drugLibTrain_raw.tsv\",\n",
    "                  sep=\"\\t\", index_col=0)"
   ]
  },
  {
   "cell_type": "code",
   "execution_count": 85,
   "metadata": {},
   "outputs": [
    {
     "data": {
      "text/html": [
       "<div>\n",
       "<style scoped>\n",
       "    .dataframe tbody tr th:only-of-type {\n",
       "        vertical-align: middle;\n",
       "    }\n",
       "\n",
       "    .dataframe tbody tr th {\n",
       "        vertical-align: top;\n",
       "    }\n",
       "\n",
       "    .dataframe thead th {\n",
       "        text-align: right;\n",
       "    }\n",
       "</style>\n",
       "<table border=\"1\" class=\"dataframe\">\n",
       "  <thead>\n",
       "    <tr style=\"text-align: right;\">\n",
       "      <th></th>\n",
       "      <th>urlDrugName</th>\n",
       "      <th>rating</th>\n",
       "      <th>effectiveness</th>\n",
       "      <th>sideEffects</th>\n",
       "      <th>condition</th>\n",
       "      <th>benefitsReview</th>\n",
       "      <th>sideEffectsReview</th>\n",
       "      <th>commentsReview</th>\n",
       "    </tr>\n",
       "  </thead>\n",
       "  <tbody>\n",
       "    <tr>\n",
       "      <th>2202</th>\n",
       "      <td>enalapril</td>\n",
       "      <td>4</td>\n",
       "      <td>Highly Effective</td>\n",
       "      <td>Mild Side Effects</td>\n",
       "      <td>management of congestive heart failure</td>\n",
       "      <td>slowed the progression of left ventricular dys...</td>\n",
       "      <td>cough, hypotension , proteinuria, impotence , ...</td>\n",
       "      <td>monitor blood pressure , weight and asses for ...</td>\n",
       "    </tr>\n",
       "    <tr>\n",
       "      <th>3117</th>\n",
       "      <td>ortho-tri-cyclen</td>\n",
       "      <td>1</td>\n",
       "      <td>Highly Effective</td>\n",
       "      <td>Severe Side Effects</td>\n",
       "      <td>birth prevention</td>\n",
       "      <td>Although this type of birth control has more c...</td>\n",
       "      <td>Heavy Cycle, Cramps, Hot Flashes, Fatigue, Lon...</td>\n",
       "      <td>I Hate This Birth Control, I Would Not Suggest...</td>\n",
       "    </tr>\n",
       "    <tr>\n",
       "      <th>1146</th>\n",
       "      <td>ponstel</td>\n",
       "      <td>10</td>\n",
       "      <td>Highly Effective</td>\n",
       "      <td>No Side Effects</td>\n",
       "      <td>menstrual cramps</td>\n",
       "      <td>I was used to having cramps so badly that they...</td>\n",
       "      <td>Heavier bleeding and clotting than normal.</td>\n",
       "      <td>I took 2 pills at the onset of my menstrual cr...</td>\n",
       "    </tr>\n",
       "    <tr>\n",
       "      <th>3947</th>\n",
       "      <td>prilosec</td>\n",
       "      <td>3</td>\n",
       "      <td>Marginally Effective</td>\n",
       "      <td>Mild Side Effects</td>\n",
       "      <td>acid reflux</td>\n",
       "      <td>The acid reflux went away for a few months aft...</td>\n",
       "      <td>Constipation, dry mouth and some mild dizzines...</td>\n",
       "      <td>I was given Prilosec prescription at a dose of...</td>\n",
       "    </tr>\n",
       "    <tr>\n",
       "      <th>1951</th>\n",
       "      <td>lyrica</td>\n",
       "      <td>2</td>\n",
       "      <td>Marginally Effective</td>\n",
       "      <td>Severe Side Effects</td>\n",
       "      <td>fibromyalgia</td>\n",
       "      <td>I think that the Lyrica was starting to help w...</td>\n",
       "      <td>I felt extremely drugged and dopey.  Could not...</td>\n",
       "      <td>See above</td>\n",
       "    </tr>\n",
       "    <tr>\n",
       "      <th>2372</th>\n",
       "      <td>propecia</td>\n",
       "      <td>1</td>\n",
       "      <td>Ineffective</td>\n",
       "      <td>Severe Side Effects</td>\n",
       "      <td>hair loss</td>\n",
       "      <td>after taking propecia for over a year, startin...</td>\n",
       "      <td>Low sex drive, before i started taking this dr...</td>\n",
       "      <td>one pill once daily</td>\n",
       "    </tr>\n",
       "    <tr>\n",
       "      <th>1043</th>\n",
       "      <td>vyvanse</td>\n",
       "      <td>9</td>\n",
       "      <td>Highly Effective</td>\n",
       "      <td>Mild Side Effects</td>\n",
       "      <td>add</td>\n",
       "      <td>My mood has noticably improved, I have more en...</td>\n",
       "      <td>a few experiences of nausiea, heavy moodswings...</td>\n",
       "      <td>I had began taking 20mg of Vyvanse for three m...</td>\n",
       "    </tr>\n",
       "    <tr>\n",
       "      <th>2715</th>\n",
       "      <td>elavil</td>\n",
       "      <td>10</td>\n",
       "      <td>Considerably Effective</td>\n",
       "      <td>No Side Effects</td>\n",
       "      <td>depression</td>\n",
       "      <td>Although this drug was originally prescribed f...</td>\n",
       "      <td>None.</td>\n",
       "      <td>One a day, taken about an hour before bedtime.</td>\n",
       "    </tr>\n",
       "    <tr>\n",
       "      <th>1591</th>\n",
       "      <td>xanax</td>\n",
       "      <td>10</td>\n",
       "      <td>Highly Effective</td>\n",
       "      <td>No Side Effects</td>\n",
       "      <td>panic disorder</td>\n",
       "      <td>This simply just works fast and without any of...</td>\n",
       "      <td>I really don't have any side effects other tha...</td>\n",
       "      <td>I first started taking this at 3 times per day...</td>\n",
       "    </tr>\n",
       "    <tr>\n",
       "      <th>1686</th>\n",
       "      <td>claritin</td>\n",
       "      <td>1</td>\n",
       "      <td>Ineffective</td>\n",
       "      <td>Extremely Severe Side Effects</td>\n",
       "      <td>allergies</td>\n",
       "      <td>none - did nothing to help allergies. i just h...</td>\n",
       "      <td>I had some horrifying mental and physical side...</td>\n",
       "      <td>took one 10 mg pill nightly.</td>\n",
       "    </tr>\n",
       "  </tbody>\n",
       "</table>\n",
       "</div>"
      ],
      "text/plain": [
       "           urlDrugName  rating           effectiveness  \\\n",
       "2202         enalapril       4        Highly Effective   \n",
       "3117  ortho-tri-cyclen       1        Highly Effective   \n",
       "1146           ponstel      10        Highly Effective   \n",
       "3947          prilosec       3    Marginally Effective   \n",
       "1951            lyrica       2    Marginally Effective   \n",
       "2372          propecia       1             Ineffective   \n",
       "1043           vyvanse       9        Highly Effective   \n",
       "2715            elavil      10  Considerably Effective   \n",
       "1591             xanax      10        Highly Effective   \n",
       "1686          claritin       1             Ineffective   \n",
       "\n",
       "                        sideEffects                               condition  \\\n",
       "2202              Mild Side Effects  management of congestive heart failure   \n",
       "3117            Severe Side Effects                        birth prevention   \n",
       "1146                No Side Effects                        menstrual cramps   \n",
       "3947              Mild Side Effects                             acid reflux   \n",
       "1951            Severe Side Effects                            fibromyalgia   \n",
       "2372            Severe Side Effects                               hair loss   \n",
       "1043              Mild Side Effects                                     add   \n",
       "2715                No Side Effects                              depression   \n",
       "1591                No Side Effects                          panic disorder   \n",
       "1686  Extremely Severe Side Effects                               allergies   \n",
       "\n",
       "                                         benefitsReview  \\\n",
       "2202  slowed the progression of left ventricular dys...   \n",
       "3117  Although this type of birth control has more c...   \n",
       "1146  I was used to having cramps so badly that they...   \n",
       "3947  The acid reflux went away for a few months aft...   \n",
       "1951  I think that the Lyrica was starting to help w...   \n",
       "2372  after taking propecia for over a year, startin...   \n",
       "1043  My mood has noticably improved, I have more en...   \n",
       "2715  Although this drug was originally prescribed f...   \n",
       "1591  This simply just works fast and without any of...   \n",
       "1686  none - did nothing to help allergies. i just h...   \n",
       "\n",
       "                                      sideEffectsReview  \\\n",
       "2202  cough, hypotension , proteinuria, impotence , ...   \n",
       "3117  Heavy Cycle, Cramps, Hot Flashes, Fatigue, Lon...   \n",
       "1146         Heavier bleeding and clotting than normal.   \n",
       "3947  Constipation, dry mouth and some mild dizzines...   \n",
       "1951  I felt extremely drugged and dopey.  Could not...   \n",
       "2372  Low sex drive, before i started taking this dr...   \n",
       "1043  a few experiences of nausiea, heavy moodswings...   \n",
       "2715                                              None.   \n",
       "1591  I really don't have any side effects other tha...   \n",
       "1686  I had some horrifying mental and physical side...   \n",
       "\n",
       "                                         commentsReview  \n",
       "2202  monitor blood pressure , weight and asses for ...  \n",
       "3117  I Hate This Birth Control, I Would Not Suggest...  \n",
       "1146  I took 2 pills at the onset of my menstrual cr...  \n",
       "3947  I was given Prilosec prescription at a dose of...  \n",
       "1951                                          See above  \n",
       "2372                                one pill once daily  \n",
       "1043  I had began taking 20mg of Vyvanse for three m...  \n",
       "2715     One a day, taken about an hour before bedtime.  \n",
       "1591  I first started taking this at 3 times per day...  \n",
       "1686                       took one 10 mg pill nightly.  "
      ]
     },
     "execution_count": 85,
     "metadata": {},
     "output_type": "execute_result"
    }
   ],
   "source": [
    "df.head(10)"
   ]
  },
  {
   "cell_type": "code",
   "execution_count": 86,
   "metadata": {},
   "outputs": [
    {
     "data": {
      "text/plain": [
       "(3107, 8)"
      ]
     },
     "execution_count": 86,
     "metadata": {},
     "output_type": "execute_result"
    }
   ],
   "source": [
    "df.shape"
   ]
  },
  {
   "cell_type": "code",
   "execution_count": null,
   "metadata": {},
   "outputs": [],
   "source": []
  },
  {
   "attachments": {},
   "cell_type": "markdown",
   "metadata": {
    "colab_type": "text",
    "id": "OhaWDPt-8ZlT"
   },
   "source": [
    "### Descriptive Analysis"
   ]
  },
  {
   "attachments": {},
   "cell_type": "markdown",
   "metadata": {},
   "source": [
    "Quedate únicamente con las columnas que podamos manejar: Columnas numéricas y columnas categoricas con pocas categorias (menos de 10)"
   ]
  },
  {
   "cell_type": "code",
   "execution_count": 87,
   "metadata": {},
   "outputs": [
    {
     "name": "stdout",
     "output_type": "stream",
     "text": [
      "<class 'pandas.core.frame.DataFrame'>\n",
      "Int64Index: 3107 entries, 2202 to 2748\n",
      "Data columns (total 8 columns):\n",
      " #   Column             Non-Null Count  Dtype \n",
      "---  ------             --------------  ----- \n",
      " 0   urlDrugName        3107 non-null   object\n",
      " 1   rating             3107 non-null   int64 \n",
      " 2   effectiveness      3107 non-null   object\n",
      " 3   sideEffects        3107 non-null   object\n",
      " 4   condition          3106 non-null   object\n",
      " 5   benefitsReview     3107 non-null   object\n",
      " 6   sideEffectsReview  3105 non-null   object\n",
      " 7   commentsReview     3099 non-null   object\n",
      "dtypes: int64(1), object(7)\n",
      "memory usage: 218.5+ KB\n"
     ]
    }
   ],
   "source": [
    "df.info()"
   ]
  },
  {
   "cell_type": "code",
   "execution_count": 88,
   "metadata": {},
   "outputs": [
    {
     "data": {
      "text/plain": [
       "Index(['urlDrugName', 'rating', 'effectiveness', 'sideEffects', 'condition',\n",
       "       'benefitsReview', 'sideEffectsReview', 'commentsReview'],\n",
       "      dtype='object')"
      ]
     },
     "execution_count": 88,
     "metadata": {},
     "output_type": "execute_result"
    }
   ],
   "source": [
    "df.columns"
   ]
  },
  {
   "cell_type": "code",
   "execution_count": 89,
   "metadata": {},
   "outputs": [],
   "source": [
    "for col in df.columns:\n",
    "    if  df[col].nunique() > 10:\n",
    "        df.drop (col, axis=1, inplace=True),\n",
    "\n"
   ]
  },
  {
   "cell_type": "code",
   "execution_count": 90,
   "metadata": {},
   "outputs": [
    {
     "name": "stdout",
     "output_type": "stream",
     "text": [
      "<class 'pandas.core.frame.DataFrame'>\n",
      "Int64Index: 3107 entries, 2202 to 2748\n",
      "Data columns (total 3 columns):\n",
      " #   Column         Non-Null Count  Dtype \n",
      "---  ------         --------------  ----- \n",
      " 0   rating         3107 non-null   int64 \n",
      " 1   effectiveness  3107 non-null   object\n",
      " 2   sideEffects    3107 non-null   object\n",
      "dtypes: int64(1), object(2)\n",
      "memory usage: 97.1+ KB\n"
     ]
    }
   ],
   "source": [
    "df.info()"
   ]
  },
  {
   "attachments": {},
   "cell_type": "markdown",
   "metadata": {},
   "source": [
    "#### Transforma las columnas categoricas\n",
    "\n",
    "Transforma las columnas categoricas a numericas mediante dummies"
   ]
  },
  {
   "cell_type": "code",
   "execution_count": 91,
   "metadata": {},
   "outputs": [
    {
     "data": {
      "text/html": [
       "<div>\n",
       "<style scoped>\n",
       "    .dataframe tbody tr th:only-of-type {\n",
       "        vertical-align: middle;\n",
       "    }\n",
       "\n",
       "    .dataframe tbody tr th {\n",
       "        vertical-align: top;\n",
       "    }\n",
       "\n",
       "    .dataframe thead th {\n",
       "        text-align: right;\n",
       "    }\n",
       "</style>\n",
       "<table border=\"1\" class=\"dataframe\">\n",
       "  <thead>\n",
       "    <tr style=\"text-align: right;\">\n",
       "      <th></th>\n",
       "      <th>rating</th>\n",
       "      <th>effectiveness_Considerably Effective</th>\n",
       "      <th>effectiveness_Highly Effective</th>\n",
       "      <th>effectiveness_Ineffective</th>\n",
       "      <th>effectiveness_Marginally Effective</th>\n",
       "      <th>effectiveness_Moderately Effective</th>\n",
       "      <th>sideEffects_Extremely Severe Side Effects</th>\n",
       "      <th>sideEffects_Mild Side Effects</th>\n",
       "      <th>sideEffects_Moderate Side Effects</th>\n",
       "      <th>sideEffects_No Side Effects</th>\n",
       "      <th>sideEffects_Severe Side Effects</th>\n",
       "    </tr>\n",
       "  </thead>\n",
       "  <tbody>\n",
       "    <tr>\n",
       "      <th>2202</th>\n",
       "      <td>4</td>\n",
       "      <td>0</td>\n",
       "      <td>1</td>\n",
       "      <td>0</td>\n",
       "      <td>0</td>\n",
       "      <td>0</td>\n",
       "      <td>0</td>\n",
       "      <td>1</td>\n",
       "      <td>0</td>\n",
       "      <td>0</td>\n",
       "      <td>0</td>\n",
       "    </tr>\n",
       "    <tr>\n",
       "      <th>3117</th>\n",
       "      <td>1</td>\n",
       "      <td>0</td>\n",
       "      <td>1</td>\n",
       "      <td>0</td>\n",
       "      <td>0</td>\n",
       "      <td>0</td>\n",
       "      <td>0</td>\n",
       "      <td>0</td>\n",
       "      <td>0</td>\n",
       "      <td>0</td>\n",
       "      <td>1</td>\n",
       "    </tr>\n",
       "    <tr>\n",
       "      <th>1146</th>\n",
       "      <td>10</td>\n",
       "      <td>0</td>\n",
       "      <td>1</td>\n",
       "      <td>0</td>\n",
       "      <td>0</td>\n",
       "      <td>0</td>\n",
       "      <td>0</td>\n",
       "      <td>0</td>\n",
       "      <td>0</td>\n",
       "      <td>1</td>\n",
       "      <td>0</td>\n",
       "    </tr>\n",
       "    <tr>\n",
       "      <th>3947</th>\n",
       "      <td>3</td>\n",
       "      <td>0</td>\n",
       "      <td>0</td>\n",
       "      <td>0</td>\n",
       "      <td>1</td>\n",
       "      <td>0</td>\n",
       "      <td>0</td>\n",
       "      <td>1</td>\n",
       "      <td>0</td>\n",
       "      <td>0</td>\n",
       "      <td>0</td>\n",
       "    </tr>\n",
       "    <tr>\n",
       "      <th>1951</th>\n",
       "      <td>2</td>\n",
       "      <td>0</td>\n",
       "      <td>0</td>\n",
       "      <td>0</td>\n",
       "      <td>1</td>\n",
       "      <td>0</td>\n",
       "      <td>0</td>\n",
       "      <td>0</td>\n",
       "      <td>0</td>\n",
       "      <td>0</td>\n",
       "      <td>1</td>\n",
       "    </tr>\n",
       "    <tr>\n",
       "      <th>...</th>\n",
       "      <td>...</td>\n",
       "      <td>...</td>\n",
       "      <td>...</td>\n",
       "      <td>...</td>\n",
       "      <td>...</td>\n",
       "      <td>...</td>\n",
       "      <td>...</td>\n",
       "      <td>...</td>\n",
       "      <td>...</td>\n",
       "      <td>...</td>\n",
       "      <td>...</td>\n",
       "    </tr>\n",
       "    <tr>\n",
       "      <th>1039</th>\n",
       "      <td>10</td>\n",
       "      <td>0</td>\n",
       "      <td>1</td>\n",
       "      <td>0</td>\n",
       "      <td>0</td>\n",
       "      <td>0</td>\n",
       "      <td>0</td>\n",
       "      <td>1</td>\n",
       "      <td>0</td>\n",
       "      <td>0</td>\n",
       "      <td>0</td>\n",
       "    </tr>\n",
       "    <tr>\n",
       "      <th>3281</th>\n",
       "      <td>1</td>\n",
       "      <td>0</td>\n",
       "      <td>0</td>\n",
       "      <td>1</td>\n",
       "      <td>0</td>\n",
       "      <td>0</td>\n",
       "      <td>1</td>\n",
       "      <td>0</td>\n",
       "      <td>0</td>\n",
       "      <td>0</td>\n",
       "      <td>0</td>\n",
       "    </tr>\n",
       "    <tr>\n",
       "      <th>1664</th>\n",
       "      <td>2</td>\n",
       "      <td>0</td>\n",
       "      <td>0</td>\n",
       "      <td>0</td>\n",
       "      <td>1</td>\n",
       "      <td>0</td>\n",
       "      <td>0</td>\n",
       "      <td>0</td>\n",
       "      <td>1</td>\n",
       "      <td>0</td>\n",
       "      <td>0</td>\n",
       "    </tr>\n",
       "    <tr>\n",
       "      <th>2621</th>\n",
       "      <td>8</td>\n",
       "      <td>1</td>\n",
       "      <td>0</td>\n",
       "      <td>0</td>\n",
       "      <td>0</td>\n",
       "      <td>0</td>\n",
       "      <td>0</td>\n",
       "      <td>1</td>\n",
       "      <td>0</td>\n",
       "      <td>0</td>\n",
       "      <td>0</td>\n",
       "    </tr>\n",
       "    <tr>\n",
       "      <th>2748</th>\n",
       "      <td>4</td>\n",
       "      <td>0</td>\n",
       "      <td>0</td>\n",
       "      <td>0</td>\n",
       "      <td>0</td>\n",
       "      <td>1</td>\n",
       "      <td>0</td>\n",
       "      <td>0</td>\n",
       "      <td>1</td>\n",
       "      <td>0</td>\n",
       "      <td>0</td>\n",
       "    </tr>\n",
       "  </tbody>\n",
       "</table>\n",
       "<p>3107 rows × 11 columns</p>\n",
       "</div>"
      ],
      "text/plain": [
       "      rating  effectiveness_Considerably Effective  \\\n",
       "2202       4                                     0   \n",
       "3117       1                                     0   \n",
       "1146      10                                     0   \n",
       "3947       3                                     0   \n",
       "1951       2                                     0   \n",
       "...      ...                                   ...   \n",
       "1039      10                                     0   \n",
       "3281       1                                     0   \n",
       "1664       2                                     0   \n",
       "2621       8                                     1   \n",
       "2748       4                                     0   \n",
       "\n",
       "      effectiveness_Highly Effective  effectiveness_Ineffective  \\\n",
       "2202                               1                          0   \n",
       "3117                               1                          0   \n",
       "1146                               1                          0   \n",
       "3947                               0                          0   \n",
       "1951                               0                          0   \n",
       "...                              ...                        ...   \n",
       "1039                               1                          0   \n",
       "3281                               0                          1   \n",
       "1664                               0                          0   \n",
       "2621                               0                          0   \n",
       "2748                               0                          0   \n",
       "\n",
       "      effectiveness_Marginally Effective  effectiveness_Moderately Effective  \\\n",
       "2202                                   0                                   0   \n",
       "3117                                   0                                   0   \n",
       "1146                                   0                                   0   \n",
       "3947                                   1                                   0   \n",
       "1951                                   1                                   0   \n",
       "...                                  ...                                 ...   \n",
       "1039                                   0                                   0   \n",
       "3281                                   0                                   0   \n",
       "1664                                   1                                   0   \n",
       "2621                                   0                                   0   \n",
       "2748                                   0                                   1   \n",
       "\n",
       "      sideEffects_Extremely Severe Side Effects  \\\n",
       "2202                                          0   \n",
       "3117                                          0   \n",
       "1146                                          0   \n",
       "3947                                          0   \n",
       "1951                                          0   \n",
       "...                                         ...   \n",
       "1039                                          0   \n",
       "3281                                          1   \n",
       "1664                                          0   \n",
       "2621                                          0   \n",
       "2748                                          0   \n",
       "\n",
       "      sideEffects_Mild Side Effects  sideEffects_Moderate Side Effects  \\\n",
       "2202                              1                                  0   \n",
       "3117                              0                                  0   \n",
       "1146                              0                                  0   \n",
       "3947                              1                                  0   \n",
       "1951                              0                                  0   \n",
       "...                             ...                                ...   \n",
       "1039                              1                                  0   \n",
       "3281                              0                                  0   \n",
       "1664                              0                                  1   \n",
       "2621                              1                                  0   \n",
       "2748                              0                                  1   \n",
       "\n",
       "      sideEffects_No Side Effects  sideEffects_Severe Side Effects  \n",
       "2202                            0                                0  \n",
       "3117                            0                                1  \n",
       "1146                            1                                0  \n",
       "3947                            0                                0  \n",
       "1951                            0                                1  \n",
       "...                           ...                              ...  \n",
       "1039                            0                                0  \n",
       "3281                            0                                0  \n",
       "1664                            0                                0  \n",
       "2621                            0                                0  \n",
       "2748                            0                                0  \n",
       "\n",
       "[3107 rows x 11 columns]"
      ]
     },
     "execution_count": 91,
     "metadata": {},
     "output_type": "execute_result"
    }
   ],
   "source": [
    "pd.get_dummies(data=df)"
   ]
  },
  {
   "cell_type": "code",
   "execution_count": 92,
   "metadata": {},
   "outputs": [],
   "source": [
    "my_dict = {\"Ineffective\":0,\n",
    "            \"Marginally Effective\":1,\n",
    "            \"Moderately Effective\":2,\n",
    "            \"Considerably Effective\":3,\n",
    "            \"Highly Effective\":4}"
   ]
  },
  {
   "cell_type": "code",
   "execution_count": 93,
   "metadata": {},
   "outputs": [
    {
     "data": {
      "text/plain": [
       "array(['Highly Effective', 'Marginally Effective', 'Ineffective',\n",
       "       'Considerably Effective', 'Moderately Effective'], dtype=object)"
      ]
     },
     "execution_count": 93,
     "metadata": {},
     "output_type": "execute_result"
    }
   ],
   "source": [
    "df.head()\n",
    "df['effectiveness'].unique()"
   ]
  },
  {
   "cell_type": "code",
   "execution_count": 94,
   "metadata": {},
   "outputs": [],
   "source": [
    "df['New_effectiveness'] = df.effectiveness.map(my_dict)\n",
    "    "
   ]
  },
  {
   "cell_type": "code",
   "execution_count": 95,
   "metadata": {},
   "outputs": [],
   "source": [
    "my_dict1 = {\"No Side Effects\":0,\n",
    "            \"Mild Side Effects\":1,\n",
    "            \"Moderate Side Effects\":2,\n",
    "            \"Severe Side Effects\":3,\n",
    "            \"Extremely Severe Side Effects\":4}"
   ]
  },
  {
   "cell_type": "code",
   "execution_count": 96,
   "metadata": {},
   "outputs": [],
   "source": [
    "df['New_sideEffects'] = df.sideEffects.map(my_dict1)"
   ]
  },
  {
   "cell_type": "code",
   "execution_count": 97,
   "metadata": {},
   "outputs": [
    {
     "data": {
      "text/html": [
       "<div>\n",
       "<style scoped>\n",
       "    .dataframe tbody tr th:only-of-type {\n",
       "        vertical-align: middle;\n",
       "    }\n",
       "\n",
       "    .dataframe tbody tr th {\n",
       "        vertical-align: top;\n",
       "    }\n",
       "\n",
       "    .dataframe thead th {\n",
       "        text-align: right;\n",
       "    }\n",
       "</style>\n",
       "<table border=\"1\" class=\"dataframe\">\n",
       "  <thead>\n",
       "    <tr style=\"text-align: right;\">\n",
       "      <th></th>\n",
       "      <th>rating</th>\n",
       "      <th>effectiveness</th>\n",
       "      <th>sideEffects</th>\n",
       "      <th>New_effectiveness</th>\n",
       "      <th>New_sideEffects</th>\n",
       "    </tr>\n",
       "  </thead>\n",
       "  <tbody>\n",
       "    <tr>\n",
       "      <th>2202</th>\n",
       "      <td>4</td>\n",
       "      <td>Highly Effective</td>\n",
       "      <td>Mild Side Effects</td>\n",
       "      <td>4</td>\n",
       "      <td>1</td>\n",
       "    </tr>\n",
       "    <tr>\n",
       "      <th>3117</th>\n",
       "      <td>1</td>\n",
       "      <td>Highly Effective</td>\n",
       "      <td>Severe Side Effects</td>\n",
       "      <td>4</td>\n",
       "      <td>3</td>\n",
       "    </tr>\n",
       "    <tr>\n",
       "      <th>1146</th>\n",
       "      <td>10</td>\n",
       "      <td>Highly Effective</td>\n",
       "      <td>No Side Effects</td>\n",
       "      <td>4</td>\n",
       "      <td>0</td>\n",
       "    </tr>\n",
       "    <tr>\n",
       "      <th>3947</th>\n",
       "      <td>3</td>\n",
       "      <td>Marginally Effective</td>\n",
       "      <td>Mild Side Effects</td>\n",
       "      <td>1</td>\n",
       "      <td>1</td>\n",
       "    </tr>\n",
       "    <tr>\n",
       "      <th>1951</th>\n",
       "      <td>2</td>\n",
       "      <td>Marginally Effective</td>\n",
       "      <td>Severe Side Effects</td>\n",
       "      <td>1</td>\n",
       "      <td>3</td>\n",
       "    </tr>\n",
       "  </tbody>\n",
       "</table>\n",
       "</div>"
      ],
      "text/plain": [
       "      rating         effectiveness          sideEffects  New_effectiveness  \\\n",
       "2202       4      Highly Effective    Mild Side Effects                  4   \n",
       "3117       1      Highly Effective  Severe Side Effects                  4   \n",
       "1146      10      Highly Effective      No Side Effects                  4   \n",
       "3947       3  Marginally Effective    Mild Side Effects                  1   \n",
       "1951       2  Marginally Effective  Severe Side Effects                  1   \n",
       "\n",
       "      New_sideEffects  \n",
       "2202                1  \n",
       "3117                3  \n",
       "1146                0  \n",
       "3947                1  \n",
       "1951                3  "
      ]
     },
     "execution_count": 97,
     "metadata": {},
     "output_type": "execute_result"
    }
   ],
   "source": [
    "df.head()"
   ]
  },
  {
   "cell_type": "code",
   "execution_count": 98,
   "metadata": {},
   "outputs": [],
   "source": [
    "df.drop(['sideEffects','effectiveness'],axis=1, inplace=True)"
   ]
  },
  {
   "cell_type": "code",
   "execution_count": 99,
   "metadata": {},
   "outputs": [
    {
     "data": {
      "text/html": [
       "<div>\n",
       "<style scoped>\n",
       "    .dataframe tbody tr th:only-of-type {\n",
       "        vertical-align: middle;\n",
       "    }\n",
       "\n",
       "    .dataframe tbody tr th {\n",
       "        vertical-align: top;\n",
       "    }\n",
       "\n",
       "    .dataframe thead th {\n",
       "        text-align: right;\n",
       "    }\n",
       "</style>\n",
       "<table border=\"1\" class=\"dataframe\">\n",
       "  <thead>\n",
       "    <tr style=\"text-align: right;\">\n",
       "      <th></th>\n",
       "      <th>rating</th>\n",
       "      <th>New_effectiveness</th>\n",
       "      <th>New_sideEffects</th>\n",
       "    </tr>\n",
       "  </thead>\n",
       "  <tbody>\n",
       "    <tr>\n",
       "      <th>2202</th>\n",
       "      <td>4</td>\n",
       "      <td>4</td>\n",
       "      <td>1</td>\n",
       "    </tr>\n",
       "    <tr>\n",
       "      <th>3117</th>\n",
       "      <td>1</td>\n",
       "      <td>4</td>\n",
       "      <td>3</td>\n",
       "    </tr>\n",
       "    <tr>\n",
       "      <th>1146</th>\n",
       "      <td>10</td>\n",
       "      <td>4</td>\n",
       "      <td>0</td>\n",
       "    </tr>\n",
       "    <tr>\n",
       "      <th>3947</th>\n",
       "      <td>3</td>\n",
       "      <td>1</td>\n",
       "      <td>1</td>\n",
       "    </tr>\n",
       "    <tr>\n",
       "      <th>1951</th>\n",
       "      <td>2</td>\n",
       "      <td>1</td>\n",
       "      <td>3</td>\n",
       "    </tr>\n",
       "  </tbody>\n",
       "</table>\n",
       "</div>"
      ],
      "text/plain": [
       "      rating  New_effectiveness  New_sideEffects\n",
       "2202       4                  4                1\n",
       "3117       1                  4                3\n",
       "1146      10                  4                0\n",
       "3947       3                  1                1\n",
       "1951       2                  1                3"
      ]
     },
     "execution_count": 99,
     "metadata": {},
     "output_type": "execute_result"
    }
   ],
   "source": [
    "df.head()"
   ]
  },
  {
   "attachments": {},
   "cell_type": "markdown",
   "metadata": {
    "colab_type": "text",
    "id": "HtBmwGdNnUGf"
   },
   "source": [
    "#### Evalua cual es la mejor K\n",
    "\n",
    "Utiliza silhouette_score para evaluar cual es la mejor K. Evalua como mucho K = 20"
   ]
  },
  {
   "attachments": {},
   "cell_type": "markdown",
   "metadata": {},
   "source": [
    "#### Genera el K Means "
   ]
  },
  {
   "cell_type": "code",
   "execution_count": 100,
   "metadata": {},
   "outputs": [],
   "source": [
    "from sklearn.metrics import silhouette_score\n",
    "from sklearn.cluster import KMeans"
   ]
  },
  {
   "attachments": {},
   "cell_type": "markdown",
   "metadata": {},
   "source": [
    "Mayor silhouette scores con K=2"
   ]
  },
  {
   "cell_type": "code",
   "execution_count": 101,
   "metadata": {},
   "outputs": [],
   "source": [
    "KM_models = []"
   ]
  },
  {
   "cell_type": "code",
   "execution_count": 102,
   "metadata": {},
   "outputs": [
    {
     "name": "stderr",
     "output_type": "stream",
     "text": [
      "c:\\Users\\mareg\\anaconda3\\envs\\general\\lib\\site-packages\\sklearn\\cluster\\_kmeans.py:870: FutureWarning: The default value of `n_init` will change from 10 to 'auto' in 1.4. Set the value of `n_init` explicitly to suppress the warning\n",
      "  warnings.warn(\n",
      "c:\\Users\\mareg\\anaconda3\\envs\\general\\lib\\site-packages\\sklearn\\cluster\\_kmeans.py:870: FutureWarning: The default value of `n_init` will change from 10 to 'auto' in 1.4. Set the value of `n_init` explicitly to suppress the warning\n",
      "  warnings.warn(\n",
      "c:\\Users\\mareg\\anaconda3\\envs\\general\\lib\\site-packages\\sklearn\\cluster\\_kmeans.py:870: FutureWarning: The default value of `n_init` will change from 10 to 'auto' in 1.4. Set the value of `n_init` explicitly to suppress the warning\n",
      "  warnings.warn(\n",
      "c:\\Users\\mareg\\anaconda3\\envs\\general\\lib\\site-packages\\sklearn\\cluster\\_kmeans.py:870: FutureWarning: The default value of `n_init` will change from 10 to 'auto' in 1.4. Set the value of `n_init` explicitly to suppress the warning\n",
      "  warnings.warn(\n",
      "c:\\Users\\mareg\\anaconda3\\envs\\general\\lib\\site-packages\\sklearn\\cluster\\_kmeans.py:870: FutureWarning: The default value of `n_init` will change from 10 to 'auto' in 1.4. Set the value of `n_init` explicitly to suppress the warning\n",
      "  warnings.warn(\n",
      "c:\\Users\\mareg\\anaconda3\\envs\\general\\lib\\site-packages\\sklearn\\cluster\\_kmeans.py:870: FutureWarning: The default value of `n_init` will change from 10 to 'auto' in 1.4. Set the value of `n_init` explicitly to suppress the warning\n",
      "  warnings.warn(\n",
      "c:\\Users\\mareg\\anaconda3\\envs\\general\\lib\\site-packages\\sklearn\\cluster\\_kmeans.py:870: FutureWarning: The default value of `n_init` will change from 10 to 'auto' in 1.4. Set the value of `n_init` explicitly to suppress the warning\n",
      "  warnings.warn(\n",
      "c:\\Users\\mareg\\anaconda3\\envs\\general\\lib\\site-packages\\sklearn\\cluster\\_kmeans.py:870: FutureWarning: The default value of `n_init` will change from 10 to 'auto' in 1.4. Set the value of `n_init` explicitly to suppress the warning\n",
      "  warnings.warn(\n",
      "c:\\Users\\mareg\\anaconda3\\envs\\general\\lib\\site-packages\\sklearn\\cluster\\_kmeans.py:870: FutureWarning: The default value of `n_init` will change from 10 to 'auto' in 1.4. Set the value of `n_init` explicitly to suppress the warning\n",
      "  warnings.warn(\n",
      "c:\\Users\\mareg\\anaconda3\\envs\\general\\lib\\site-packages\\sklearn\\cluster\\_kmeans.py:870: FutureWarning: The default value of `n_init` will change from 10 to 'auto' in 1.4. Set the value of `n_init` explicitly to suppress the warning\n",
      "  warnings.warn(\n",
      "c:\\Users\\mareg\\anaconda3\\envs\\general\\lib\\site-packages\\sklearn\\cluster\\_kmeans.py:870: FutureWarning: The default value of `n_init` will change from 10 to 'auto' in 1.4. Set the value of `n_init` explicitly to suppress the warning\n",
      "  warnings.warn(\n",
      "c:\\Users\\mareg\\anaconda3\\envs\\general\\lib\\site-packages\\sklearn\\cluster\\_kmeans.py:870: FutureWarning: The default value of `n_init` will change from 10 to 'auto' in 1.4. Set the value of `n_init` explicitly to suppress the warning\n",
      "  warnings.warn(\n",
      "c:\\Users\\mareg\\anaconda3\\envs\\general\\lib\\site-packages\\sklearn\\cluster\\_kmeans.py:870: FutureWarning: The default value of `n_init` will change from 10 to 'auto' in 1.4. Set the value of `n_init` explicitly to suppress the warning\n",
      "  warnings.warn(\n",
      "c:\\Users\\mareg\\anaconda3\\envs\\general\\lib\\site-packages\\sklearn\\cluster\\_kmeans.py:870: FutureWarning: The default value of `n_init` will change from 10 to 'auto' in 1.4. Set the value of `n_init` explicitly to suppress the warning\n",
      "  warnings.warn(\n",
      "c:\\Users\\mareg\\anaconda3\\envs\\general\\lib\\site-packages\\sklearn\\cluster\\_kmeans.py:870: FutureWarning: The default value of `n_init` will change from 10 to 'auto' in 1.4. Set the value of `n_init` explicitly to suppress the warning\n",
      "  warnings.warn(\n",
      "c:\\Users\\mareg\\anaconda3\\envs\\general\\lib\\site-packages\\sklearn\\cluster\\_kmeans.py:870: FutureWarning: The default value of `n_init` will change from 10 to 'auto' in 1.4. Set the value of `n_init` explicitly to suppress the warning\n",
      "  warnings.warn(\n",
      "c:\\Users\\mareg\\anaconda3\\envs\\general\\lib\\site-packages\\sklearn\\cluster\\_kmeans.py:870: FutureWarning: The default value of `n_init` will change from 10 to 'auto' in 1.4. Set the value of `n_init` explicitly to suppress the warning\n",
      "  warnings.warn(\n",
      "c:\\Users\\mareg\\anaconda3\\envs\\general\\lib\\site-packages\\sklearn\\cluster\\_kmeans.py:870: FutureWarning: The default value of `n_init` will change from 10 to 'auto' in 1.4. Set the value of `n_init` explicitly to suppress the warning\n",
      "  warnings.warn(\n",
      "c:\\Users\\mareg\\anaconda3\\envs\\general\\lib\\site-packages\\sklearn\\cluster\\_kmeans.py:870: FutureWarning: The default value of `n_init` will change from 10 to 'auto' in 1.4. Set the value of `n_init` explicitly to suppress the warning\n",
      "  warnings.warn(\n"
     ]
    }
   ],
   "source": [
    "for K in range(2,21):\n",
    "    kmeans = KMeans(n_clusters=K, random_state=42).fit(df)\n",
    "    KM_models.append(kmeans)\n"
   ]
  },
  {
   "cell_type": "code",
   "execution_count": 103,
   "metadata": {},
   "outputs": [
    {
     "data": {
      "text/plain": [
       "[KMeans(n_clusters=2, random_state=42),\n",
       " KMeans(n_clusters=3, random_state=42),\n",
       " KMeans(n_clusters=4, random_state=42),\n",
       " KMeans(n_clusters=5, random_state=42),\n",
       " KMeans(n_clusters=6, random_state=42),\n",
       " KMeans(n_clusters=7, random_state=42),\n",
       " KMeans(random_state=42),\n",
       " KMeans(n_clusters=9, random_state=42),\n",
       " KMeans(n_clusters=10, random_state=42),\n",
       " KMeans(n_clusters=11, random_state=42),\n",
       " KMeans(n_clusters=12, random_state=42),\n",
       " KMeans(n_clusters=13, random_state=42),\n",
       " KMeans(n_clusters=14, random_state=42),\n",
       " KMeans(n_clusters=15, random_state=42),\n",
       " KMeans(n_clusters=16, random_state=42),\n",
       " KMeans(n_clusters=17, random_state=42),\n",
       " KMeans(n_clusters=18, random_state=42),\n",
       " KMeans(n_clusters=19, random_state=42),\n",
       " KMeans(n_clusters=20, random_state=42)]"
      ]
     },
     "execution_count": 103,
     "metadata": {},
     "output_type": "execute_result"
    }
   ],
   "source": [
    "KM_models\n"
   ]
  },
  {
   "cell_type": "code",
   "execution_count": 104,
   "metadata": {},
   "outputs": [],
   "source": [
    "silhouette_scores = []"
   ]
  },
  {
   "cell_type": "code",
   "execution_count": 105,
   "metadata": {},
   "outputs": [],
   "source": [
    "for models in KM_models:\n",
    "    silhouette_scores.append(silhouette_score(df, models.labels_))\n",
    "    \n"
   ]
  },
  {
   "cell_type": "code",
   "execution_count": 106,
   "metadata": {},
   "outputs": [
    {
     "data": {
      "text/plain": [
       "[0.6190969508782411,\n",
       " 0.4541665291694327,\n",
       " 0.4164004027525524,\n",
       " 0.41328351677571,\n",
       " 0.4078008448165291,\n",
       " 0.38137390308299046,\n",
       " 0.3999813976122771,\n",
       " 0.40330933571580874,\n",
       " 0.3857296365910094,\n",
       " 0.40452622286502343,\n",
       " 0.41806303999751104,\n",
       " 0.44747169157193645,\n",
       " 0.44387880910676175,\n",
       " 0.47542153701846235,\n",
       " 0.4708523354298388,\n",
       " 0.49091180906181237,\n",
       " 0.5114644172248932,\n",
       " 0.5090048447617751,\n",
       " 0.5081706788586493]"
      ]
     },
     "execution_count": 106,
     "metadata": {},
     "output_type": "execute_result"
    }
   ],
   "source": [
    "silhouette_scores"
   ]
  },
  {
   "cell_type": "code",
   "execution_count": null,
   "metadata": {},
   "outputs": [],
   "source": [
    "KN_models in "
   ]
  },
  {
   "cell_type": "code",
   "execution_count": null,
   "metadata": {},
   "outputs": [],
   "source": [
    "for Kmeans(n_clusters=n)"
   ]
  },
  {
   "attachments": {},
   "cell_type": "markdown",
   "metadata": {},
   "source": [
    "Con el Elbow method comprobamos que k=2 sería la opción más adecuada"
   ]
  },
  {
   "cell_type": "code",
   "execution_count": 113,
   "metadata": {},
   "outputs": [
    {
     "name": "stderr",
     "output_type": "stream",
     "text": [
      "c:\\Users\\mareg\\anaconda3\\envs\\general\\lib\\site-packages\\sklearn\\cluster\\_kmeans.py:870: FutureWarning: The default value of `n_init` will change from 10 to 'auto' in 1.4. Set the value of `n_init` explicitly to suppress the warning\n",
      "  warnings.warn(\n"
     ]
    },
    {
     "data": {
      "text/plain": [
       "array([0, 0, 1, ..., 0, 1, 0])"
      ]
     },
     "execution_count": 113,
     "metadata": {},
     "output_type": "execute_result"
    }
   ],
   "source": [
    "kmeans = KMeans(n_clusters=2, random_state=42).fit(df)\n",
    "kmeans.labels_"
   ]
  },
  {
   "attachments": {},
   "cell_type": "markdown",
   "metadata": {},
   "source": [
    "#### Muestra en un gráfico de tartas la distribución de los distintos clusters"
   ]
  },
  {
   "cell_type": "code",
   "execution_count": 107,
   "metadata": {},
   "outputs": [
    {
     "data": {
      "text/plain": [
       "[<matplotlib.lines.Line2D at 0x1daa9412110>]"
      ]
     },
     "execution_count": 107,
     "metadata": {},
     "output_type": "execute_result"
    },
    {
     "data": {
      "image/png": "[encoded data removed]",
      "text/plain": [
       "<Figure size 640x480 with 1 Axes>"
      ]
     },
     "metadata": {},
     "output_type": "display_data"
    }
   ],
   "source": [
    "plt.plot(range(2,21), silhouette_scores)"
   ]
  },
  {
   "cell_type": "code",
   "execution_count": 108,
   "metadata": {},
   "outputs": [
    {
     "data": {
      "image/png": "[encoded data removed]",
      "text/plain": [
       "<Figure size 640x480 with 1 Axes>"
      ]
     },
     "metadata": {},
     "output_type": "display_data"
    }
   ],
   "source": [
    "inertias = [model.inertia_ for model in KM_models]\n",
    "inertias\n",
    "plt.plot(range(2,21), inertias)\n",
    "plt.xlabel('k')\n",
    "plt.ylabel('inertias')\n",
    "plt.show()"
   ]
  },
  {
   "cell_type": "code",
   "execution_count": 114,
   "metadata": {},
   "outputs": [
    {
     "data": {
      "text/plain": [
       "<AxesSubplot:ylabel='Cluster'>"
      ]
     },
     "execution_count": 114,
     "metadata": {},
     "output_type": "execute_result"
    },
    {
     "data": {
      "image/png": "[encoded data removed]",
      "text/plain": [
       "<Figure size 640x480 with 1 Axes>"
      ]
     },
     "metadata": {},
     "output_type": "display_data"
    }
   ],
   "source": [
    "\n",
    "df_clusters = pd.DataFrame(kmeans.labels_, columns=['Cluster'])\n",
    "df_clusters.head()\n",
    "df_clusters['Cluster'].value_counts().plot.pie(autopct=\"%.1f%%\")"
   ]
  },
  {
   "cell_type": "code",
   "execution_count": 49,
   "metadata": {},
   "outputs": [
    {
     "data": {
      "text/plain": [
       "<AxesSubplot:ylabel='Cluster'>"
      ]
     },
     "execution_count": 49,
     "metadata": {},
     "output_type": "execute_result"
    },
    {
     "data": {
      "image/png": "[encoded data removed]",
      "text/plain": [
       "<Figure size 432x288 with 1 Axes>"
      ]
     },
     "metadata": {},
     "output_type": "display_data"
    }
   ],
   "source": [
    "df_clusters['Cluster'].value_counts().plot.pie(autopct=\"%.1f%%\")"
   ]
  }
 ],
 "metadata": {
  "colab": {
   "collapsed_sections": [],
   "name": "kmeans-user-clustering.ipynb",
   "provenance": []
  },
  "kernelspec": {
   "display_name": "Python 3",
   "language": "python",
   "name": "python3"
  },
  "language_info": {
   "codemirror_mode": {
    "name": "ipython",
    "version": 3
   },
   "file_extension": ".py",
   "mimetype": "text/x-python",
   "name": "python",
   "nbconvert_exporter": "python",
   "pygments_lexer": "ipython3",
   "version": "3.10.4"
  },
  "nbTranslate": {
   "displayLangs": [
    "*"
   ],
   "hotkey": "alt-t",
   "langInMainMenu": true,
   "sourceLang": "en",
   "targetLang": "fr",
   "useGoogleTranslate": true
  },
  "varInspector": {
   "cols": {
    "lenName": 16,
    "lenType": 16,
    "lenVar": 40
   },
   "kernels_config": {
    "python": {
     "delete_cmd_postfix": "",
     "delete_cmd_prefix": "del ",
     "library": "var_list.py",
     "varRefreshCmd": "print(var_dic_list())"
    },
    "r": {
     "delete_cmd_postfix": ") ",
     "delete_cmd_prefix": "rm(",
     "library": "var_list.r",
     "varRefreshCmd": "cat(var_dic_list()) "
    }
   },
   "types_to_exclude": [
    "module",
    "function",
    "builtin_function_or_method",
    "instance",
    "_Feature"
   ],
   "window_display": false
  }
 },
 "nbformat": 4,
 "nbformat_minor": 4
}
