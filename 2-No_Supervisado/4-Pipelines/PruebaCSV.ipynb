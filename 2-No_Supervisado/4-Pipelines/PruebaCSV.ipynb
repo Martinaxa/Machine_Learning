{
 "cells": [
  {
   "cell_type": "code",
   "execution_count": 1,
   "metadata": {},
   "outputs": [],
   "source": [
    "import pandas as pd\n",
    "import numpy as np\n"
   ]
  },
  {
   "cell_type": "code",
   "execution_count": 9,
   "metadata": {},
   "outputs": [],
   "source": [
    "df_guardadoemoji = pd.read_csv(\"test\\Proyecto_Final\\df_emoji.csv\")\n"
   ]
  },
  {
   "cell_type": "code",
   "execution_count": 11,
   "metadata": {},
   "outputs": [
    {
     "data": {
      "text/html": [
       "<div>\n",
       "<style scoped>\n",
       "    .dataframe tbody tr th:only-of-type {\n",
       "        vertical-align: middle;\n",
       "    }\n",
       "\n",
       "    .dataframe tbody tr th {\n",
       "        vertical-align: top;\n",
       "    }\n",
       "\n",
       "    .dataframe thead th {\n",
       "        text-align: right;\n",
       "    }\n",
       "</style>\n",
       "<table border=\"1\" class=\"dataframe\">\n",
       "  <thead>\n",
       "    <tr style=\"text-align: right;\">\n",
       "      <th></th>\n",
       "      <th>link</th>\n",
       "      <th>authors</th>\n",
       "      <th>category_merged</th>\n",
       "      <th>length</th>\n",
       "      <th>target</th>\n",
       "      <th>text</th>\n",
       "      <th>text_traducido</th>\n",
       "    </tr>\n",
       "  </thead>\n",
       "  <tbody>\n",
       "    <tr>\n",
       "      <th>0</th>\n",
       "      <td>https://www.huffpost.com/entry/covid-boosters-...</td>\n",
       "      <td>Carla K. Johnson, AP</td>\n",
       "      <td>POLITICS</td>\n",
       "      <td>29</td>\n",
       "      <td>12</td>\n",
       "      <td>Over 4 Million Americans Roll Up Sleeves For O...</td>\n",
       "      <td>Over 4 Million Americans Roll Up Sleeves For O...</td>\n",
       "    </tr>\n",
       "    <tr>\n",
       "      <th>1</th>\n",
       "      <td>https://www.huffpost.com/entry/american-airlin...</td>\n",
       "      <td>Mary Papenfuss</td>\n",
       "      <td>POLITICS</td>\n",
       "      <td>28</td>\n",
       "      <td>12</td>\n",
       "      <td>American Airlines Flyer Charged, Banned For Li...</td>\n",
       "      <td>American Airlines Flyer Charged , Banned For L...</td>\n",
       "    </tr>\n",
       "    <tr>\n",
       "      <th>2</th>\n",
       "      <td>https://www.huffpost.com/entry/funniest-tweets...</td>\n",
       "      <td>Elyse Wanshel</td>\n",
       "      <td>ENTERTAINMENT</td>\n",
       "      <td>12</td>\n",
       "      <td>3</td>\n",
       "      <td>23 Of The Funniest Tweets About Cats And Dogs ...</td>\n",
       "      <td>23 Of The Funniest Tweets About Cats And Dogs ...</td>\n",
       "    </tr>\n",
       "    <tr>\n",
       "      <th>3</th>\n",
       "      <td>https://www.huffpost.com/entry/funniest-parent...</td>\n",
       "      <td>Caroline Bologna</td>\n",
       "      <td>PARENTING</td>\n",
       "      <td>25</td>\n",
       "      <td>11</td>\n",
       "      <td>The Funniest Tweets From Parents This Week (Se...</td>\n",
       "      <td>The Funniest Tweets From Parents This Week ( S...</td>\n",
       "    </tr>\n",
       "    <tr>\n",
       "      <th>4</th>\n",
       "      <td>https://www.huffpost.com/entry/amy-cooper-lose...</td>\n",
       "      <td>Nina Golgowski</td>\n",
       "      <td>POLITICS</td>\n",
       "      <td>25</td>\n",
       "      <td>12</td>\n",
       "      <td>Woman Who Called Cops On Black Bird-Watcher Lo...</td>\n",
       "      <td>Woman Who Called Cops On Black Bird - Watcher ...</td>\n",
       "    </tr>\n",
       "  </tbody>\n",
       "</table>\n",
       "</div>"
      ],
      "text/plain": [
       "                                                link               authors  \\\n",
       "0  https://www.huffpost.com/entry/covid-boosters-...  Carla K. Johnson, AP   \n",
       "1  https://www.huffpost.com/entry/american-airlin...        Mary Papenfuss   \n",
       "2  https://www.huffpost.com/entry/funniest-tweets...         Elyse Wanshel   \n",
       "3  https://www.huffpost.com/entry/funniest-parent...      Caroline Bologna   \n",
       "4  https://www.huffpost.com/entry/amy-cooper-lose...        Nina Golgowski   \n",
       "\n",
       "  category_merged  length  target  \\\n",
       "0        POLITICS      29      12   \n",
       "1        POLITICS      28      12   \n",
       "2   ENTERTAINMENT      12       3   \n",
       "3       PARENTING      25      11   \n",
       "4        POLITICS      25      12   \n",
       "\n",
       "                                                text  \\\n",
       "0  Over 4 Million Americans Roll Up Sleeves For O...   \n",
       "1  American Airlines Flyer Charged, Banned For Li...   \n",
       "2  23 Of The Funniest Tweets About Cats And Dogs ...   \n",
       "3  The Funniest Tweets From Parents This Week (Se...   \n",
       "4  Woman Who Called Cops On Black Bird-Watcher Lo...   \n",
       "\n",
       "                                      text_traducido  \n",
       "0  Over 4 Million Americans Roll Up Sleeves For O...  \n",
       "1  American Airlines Flyer Charged , Banned For L...  \n",
       "2  23 Of The Funniest Tweets About Cats And Dogs ...  \n",
       "3  The Funniest Tweets From Parents This Week ( S...  \n",
       "4  Woman Who Called Cops On Black Bird - Watcher ...  "
      ]
     },
     "execution_count": 11,
     "metadata": {},
     "output_type": "execute_result"
    }
   ],
   "source": [
    "df_guardadoemoji.head()"
   ]
  },
  {
   "cell_type": "code",
   "execution_count": 12,
   "metadata": {},
   "outputs": [],
   "source": [
    "df_guardadoemoji.to_csv('df_emoji2.csv', index=False)"
   ]
  },
  {
   "cell_type": "code",
   "execution_count": null,
   "metadata": {},
   "outputs": [],
   "source": [
    "df_guardadoemoji.to_csv"
   ]
  }
 ],
 "metadata": {
  "kernelspec": {
   "display_name": "general",
   "language": "python",
   "name": "python3"
  },
  "language_info": {
   "codemirror_mode": {
    "name": "ipython",
    "version": 3
   },
   "file_extension": ".py",
   "mimetype": "text/x-python",
   "name": "python",
   "nbconvert_exporter": "python",
   "pygments_lexer": "ipython3",
   "version": "3.10.4"
  },
  "orig_nbformat": 4
 },
 "nbformat": 4,
 "nbformat_minor": 2
}
